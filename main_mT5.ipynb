{
  "cells": [
    {
      "cell_type": "markdown",
      "metadata": {
        "id": "ANLR5DH66oOD"
      },
      "source": [
        "# Load the important libraries"
      ]
    },
    {
      "cell_type": "code",
      "source": [
        "!pip install transformers\n",
        "!pip install rouge"
      ],
      "metadata": {
        "colab": {
          "base_uri": "https://localhost:8080/"
        },
        "id": "8jKelSsz-qw1",
        "outputId": "68d9c0c8-d3ae-498d-ebd0-63b553ab15e9"
      },
      "execution_count": null,
      "outputs": [
        {
          "output_type": "stream",
          "name": "stdout",
          "text": [
            "Collecting transformers\n",
            "  Downloading transformers-4.30.2-py3-none-any.whl (7.2 MB)\n",
            "\u001b[2K     \u001b[90m━━━━━━━━━━━━━━━━━━━━━━━━━━━━━━━━━━━━━━━━\u001b[0m \u001b[32m7.2/7.2 MB\u001b[0m \u001b[31m54.6 MB/s\u001b[0m eta \u001b[36m0:00:00\u001b[0m\n",
            "\u001b[?25hRequirement already satisfied: filelock in /usr/local/lib/python3.10/dist-packages (from transformers) (3.12.2)\n",
            "Collecting huggingface-hub<1.0,>=0.14.1 (from transformers)\n",
            "  Downloading huggingface_hub-0.15.1-py3-none-any.whl (236 kB)\n",
            "\u001b[2K     \u001b[90m━━━━━━━━━━━━━━━━━━━━━━━━━━━━━━━━━━━━━━\u001b[0m \u001b[32m236.8/236.8 kB\u001b[0m \u001b[31m27.3 MB/s\u001b[0m eta \u001b[36m0:00:00\u001b[0m\n",
            "\u001b[?25hRequirement already satisfied: numpy>=1.17 in /usr/local/lib/python3.10/dist-packages (from transformers) (1.22.4)\n",
            "Requirement already satisfied: packaging>=20.0 in /usr/local/lib/python3.10/dist-packages (from transformers) (23.1)\n",
            "Requirement already satisfied: pyyaml>=5.1 in /usr/local/lib/python3.10/dist-packages (from transformers) (6.0)\n",
            "Requirement already satisfied: regex!=2019.12.17 in /usr/local/lib/python3.10/dist-packages (from transformers) (2022.10.31)\n",
            "Requirement already satisfied: requests in /usr/local/lib/python3.10/dist-packages (from transformers) (2.27.1)\n",
            "Collecting tokenizers!=0.11.3,<0.14,>=0.11.1 (from transformers)\n",
            "  Downloading tokenizers-0.13.3-cp310-cp310-manylinux_2_17_x86_64.manylinux2014_x86_64.whl (7.8 MB)\n",
            "\u001b[2K     \u001b[90m━━━━━━━━━━━━━━━━━━━━━━━━━━━━━━━━━━━━━━━━\u001b[0m \u001b[32m7.8/7.8 MB\u001b[0m \u001b[31m46.9 MB/s\u001b[0m eta \u001b[36m0:00:00\u001b[0m\n",
            "\u001b[?25hCollecting safetensors>=0.3.1 (from transformers)\n",
            "  Downloading safetensors-0.3.1-cp310-cp310-manylinux_2_17_x86_64.manylinux2014_x86_64.whl (1.3 MB)\n",
            "\u001b[2K     \u001b[90m━━━━━━━━━━━━━━━━━━━━━━━━━━━━━━━━━━━━━━━━\u001b[0m \u001b[32m1.3/1.3 MB\u001b[0m \u001b[31m68.2 MB/s\u001b[0m eta \u001b[36m0:00:00\u001b[0m\n",
            "\u001b[?25hRequirement already satisfied: tqdm>=4.27 in /usr/local/lib/python3.10/dist-packages (from transformers) (4.65.0)\n",
            "Requirement already satisfied: fsspec in /usr/local/lib/python3.10/dist-packages (from huggingface-hub<1.0,>=0.14.1->transformers) (2023.6.0)\n",
            "Requirement already satisfied: typing-extensions>=3.7.4.3 in /usr/local/lib/python3.10/dist-packages (from huggingface-hub<1.0,>=0.14.1->transformers) (4.6.3)\n",
            "Requirement already satisfied: urllib3<1.27,>=1.21.1 in /usr/local/lib/python3.10/dist-packages (from requests->transformers) (1.26.16)\n",
            "Requirement already satisfied: certifi>=2017.4.17 in /usr/local/lib/python3.10/dist-packages (from requests->transformers) (2023.5.7)\n",
            "Requirement already satisfied: charset-normalizer~=2.0.0 in /usr/local/lib/python3.10/dist-packages (from requests->transformers) (2.0.12)\n",
            "Requirement already satisfied: idna<4,>=2.5 in /usr/local/lib/python3.10/dist-packages (from requests->transformers) (3.4)\n",
            "Installing collected packages: tokenizers, safetensors, huggingface-hub, transformers\n",
            "Successfully installed huggingface-hub-0.15.1 safetensors-0.3.1 tokenizers-0.13.3 transformers-4.30.2\n",
            "Collecting rouge\n",
            "  Downloading rouge-1.0.1-py3-none-any.whl (13 kB)\n",
            "Requirement already satisfied: six in /usr/local/lib/python3.10/dist-packages (from rouge) (1.16.0)\n",
            "Installing collected packages: rouge\n",
            "Successfully installed rouge-1.0.1\n"
          ]
        }
      ]
    },
    {
      "cell_type": "code",
      "execution_count": null,
      "metadata": {
        "id": "baQnnYBq6oOH"
      },
      "outputs": [],
      "source": [
        "import json # for dealing with Json files\n",
        "import pandas as pd # for dealing with dataset\n",
        "import csv # used to wirte the data in CVS file\n",
        "import matplotlib.pyplot as plt # make visualization\n",
        "import seaborn as sns # make visualization\n",
        "\n",
        "import torch # to import cuda.is_available() method to run on GPU\n",
        "from transformers import AutoModelForSeq2SeqLM, AutoModelForSequenceClassification, AutoModel, AutoTokenizer, AdamW, pipeline\n",
        "\n",
        "from rouge import Rouge # To import ROUGE metrics for evaluation"
      ]
    },
    {
      "cell_type": "markdown",
      "source": [
        "# 🔍 Step 1: Load dataset"
      ],
      "metadata": {
        "id": "-86YHnmEDpCg"
      }
    },
    {
      "cell_type": "markdown",
      "metadata": {
        "id": "tYWZS7Ul6oOJ"
      },
      "source": [
        "Convert Json data to CVS file"
      ]
    },
    {
      "cell_type": "code",
      "execution_count": null,
      "metadata": {
        "id": "_fYMG18e6oOJ"
      },
      "outputs": [],
      "source": [
        "# The pass to the Json dataset (old)\n",
        "input_file = 'labeled_validation_dataset.jsonl'\n",
        "# The pass to the CSV dataset (new)\n",
        "output_file = 'labeled_validation_dataset.csv'\n",
        "\n",
        "# Read from the Json file and write in the CSV file\n",
        "with open(input_file, 'r', encoding='utf-8') as input, open(output_file, 'w', encoding='utf-8', newline='') as output:\n",
        "    # Write the rows in csv\n",
        "    writer = csv.writer(output)\n",
        "    # Create column names\n",
        "    writer.writerow(['paragraph', 'summary'])\n",
        "\n",
        "    # Loop on the input file and copy his content into output file\n",
        "    for line in input:\n",
        "        # Load the lines from Json data\n",
        "        data = json.loads(line)\n",
        "        # Copy the data\n",
        "        paragraph = data['paragraph']\n",
        "        summary = data['summary']\n",
        "\n",
        "        # Write the extracted data to the output file\n",
        "        writer.writerow([paragraph, summary])\n"
      ]
    },
    {
      "cell_type": "markdown",
      "source": [
        "load csv file"
      ],
      "metadata": {
        "id": "SX_aIMbZBf6p"
      }
    },
    {
      "cell_type": "code",
      "execution_count": null,
      "metadata": {
        "colab": {
          "base_uri": "https://localhost:8080/",
          "height": 206
        },
        "id": "GT9MDChk6oOL",
        "outputId": "732a4f41-5853-4af7-b6e6-6fbc0dce83ef"
      },
      "outputs": [
        {
          "output_type": "execute_result",
          "data": {
            "text/plain": [
              "                                           paragraph  \\\n",
              "0  وتحت عنوان من الكارثة إلى التحدى يبدأ الكاتب ع...   \n",
              "1  ولم يعترف دبلوماسيو هاتين الدولتين بالعريضة ال...   \n",
              "2  قامت ولاية حلب بعد اعلان الجنرال الفرنسي هنري ...   \n",
              "3  دولة مصر العربيه هي ليست اي دوله وليست اي شعب ...   \n",
              "4  السوريون يصرون على استقلال بلادهم : و مثلما رف...   \n",
              "\n",
              "                                             summary  \n",
              "0  يبدأ الكاتب عرض الكتاب الرابع تحت عنوان من الك...  \n",
              "1  دبلوماسيو الدولتين لم يعترفوا بالعريضة التي قا...  \n",
              "2  أعلن غورو الانتداب الفرنسي على سوريا لكي يعاقب...  \n",
              "3  مصر هي أم البلاد، وقائدة العرب؛ فهي أرض بلاد ا...  \n",
              "4  الشعب السوري يصر على استقلال بلدهم من السيطرة ...  "
            ],
            "text/html": [
              "\n",
              "  <div id=\"df-15da6cb2-0260-4b43-9d50-499363b8b41f\">\n",
              "    <div class=\"colab-df-container\">\n",
              "      <div>\n",
              "<style scoped>\n",
              "    .dataframe tbody tr th:only-of-type {\n",
              "        vertical-align: middle;\n",
              "    }\n",
              "\n",
              "    .dataframe tbody tr th {\n",
              "        vertical-align: top;\n",
              "    }\n",
              "\n",
              "    .dataframe thead th {\n",
              "        text-align: right;\n",
              "    }\n",
              "</style>\n",
              "<table border=\"1\" class=\"dataframe\">\n",
              "  <thead>\n",
              "    <tr style=\"text-align: right;\">\n",
              "      <th></th>\n",
              "      <th>paragraph</th>\n",
              "      <th>summary</th>\n",
              "    </tr>\n",
              "  </thead>\n",
              "  <tbody>\n",
              "    <tr>\n",
              "      <th>0</th>\n",
              "      <td>وتحت عنوان من الكارثة إلى التحدى يبدأ الكاتب ع...</td>\n",
              "      <td>يبدأ الكاتب عرض الكتاب الرابع تحت عنوان من الك...</td>\n",
              "    </tr>\n",
              "    <tr>\n",
              "      <th>1</th>\n",
              "      <td>ولم يعترف دبلوماسيو هاتين الدولتين بالعريضة ال...</td>\n",
              "      <td>دبلوماسيو الدولتين لم يعترفوا بالعريضة التي قا...</td>\n",
              "    </tr>\n",
              "    <tr>\n",
              "      <th>2</th>\n",
              "      <td>قامت ولاية حلب بعد اعلان الجنرال الفرنسي هنري ...</td>\n",
              "      <td>أعلن غورو الانتداب الفرنسي على سوريا لكي يعاقب...</td>\n",
              "    </tr>\n",
              "    <tr>\n",
              "      <th>3</th>\n",
              "      <td>دولة مصر العربيه هي ليست اي دوله وليست اي شعب ...</td>\n",
              "      <td>مصر هي أم البلاد، وقائدة العرب؛ فهي أرض بلاد ا...</td>\n",
              "    </tr>\n",
              "    <tr>\n",
              "      <th>4</th>\n",
              "      <td>السوريون يصرون على استقلال بلادهم : و مثلما رف...</td>\n",
              "      <td>الشعب السوري يصر على استقلال بلدهم من السيطرة ...</td>\n",
              "    </tr>\n",
              "  </tbody>\n",
              "</table>\n",
              "</div>\n",
              "      <button class=\"colab-df-convert\" onclick=\"convertToInteractive('df-15da6cb2-0260-4b43-9d50-499363b8b41f')\"\n",
              "              title=\"Convert this dataframe to an interactive table.\"\n",
              "              style=\"display:none;\">\n",
              "        \n",
              "  <svg xmlns=\"http://www.w3.org/2000/svg\" height=\"24px\"viewBox=\"0 0 24 24\"\n",
              "       width=\"24px\">\n",
              "    <path d=\"M0 0h24v24H0V0z\" fill=\"none\"/>\n",
              "    <path d=\"M18.56 5.44l.94 2.06.94-2.06 2.06-.94-2.06-.94-.94-2.06-.94 2.06-2.06.94zm-11 1L8.5 8.5l.94-2.06 2.06-.94-2.06-.94L8.5 2.5l-.94 2.06-2.06.94zm10 10l.94 2.06.94-2.06 2.06-.94-2.06-.94-.94-2.06-.94 2.06-2.06.94z\"/><path d=\"M17.41 7.96l-1.37-1.37c-.4-.4-.92-.59-1.43-.59-.52 0-1.04.2-1.43.59L10.3 9.45l-7.72 7.72c-.78.78-.78 2.05 0 2.83L4 21.41c.39.39.9.59 1.41.59.51 0 1.02-.2 1.41-.59l7.78-7.78 2.81-2.81c.8-.78.8-2.07 0-2.86zM5.41 20L4 18.59l7.72-7.72 1.47 1.35L5.41 20z\"/>\n",
              "  </svg>\n",
              "      </button>\n",
              "      \n",
              "  <style>\n",
              "    .colab-df-container {\n",
              "      display:flex;\n",
              "      flex-wrap:wrap;\n",
              "      gap: 12px;\n",
              "    }\n",
              "\n",
              "    .colab-df-convert {\n",
              "      background-color: #E8F0FE;\n",
              "      border: none;\n",
              "      border-radius: 50%;\n",
              "      cursor: pointer;\n",
              "      display: none;\n",
              "      fill: #1967D2;\n",
              "      height: 32px;\n",
              "      padding: 0 0 0 0;\n",
              "      width: 32px;\n",
              "    }\n",
              "\n",
              "    .colab-df-convert:hover {\n",
              "      background-color: #E2EBFA;\n",
              "      box-shadow: 0px 1px 2px rgba(60, 64, 67, 0.3), 0px 1px 3px 1px rgba(60, 64, 67, 0.15);\n",
              "      fill: #174EA6;\n",
              "    }\n",
              "\n",
              "    [theme=dark] .colab-df-convert {\n",
              "      background-color: #3B4455;\n",
              "      fill: #D2E3FC;\n",
              "    }\n",
              "\n",
              "    [theme=dark] .colab-df-convert:hover {\n",
              "      background-color: #434B5C;\n",
              "      box-shadow: 0px 1px 3px 1px rgba(0, 0, 0, 0.15);\n",
              "      filter: drop-shadow(0px 1px 2px rgba(0, 0, 0, 0.3));\n",
              "      fill: #FFFFFF;\n",
              "    }\n",
              "  </style>\n",
              "\n",
              "      <script>\n",
              "        const buttonEl =\n",
              "          document.querySelector('#df-15da6cb2-0260-4b43-9d50-499363b8b41f button.colab-df-convert');\n",
              "        buttonEl.style.display =\n",
              "          google.colab.kernel.accessAllowed ? 'block' : 'none';\n",
              "\n",
              "        async function convertToInteractive(key) {\n",
              "          const element = document.querySelector('#df-15da6cb2-0260-4b43-9d50-499363b8b41f');\n",
              "          const dataTable =\n",
              "            await google.colab.kernel.invokeFunction('convertToInteractive',\n",
              "                                                     [key], {});\n",
              "          if (!dataTable) return;\n",
              "\n",
              "          const docLinkHtml = 'Like what you see? Visit the ' +\n",
              "            '<a target=\"_blank\" href=https://colab.research.google.com/notebooks/data_table.ipynb>data table notebook</a>'\n",
              "            + ' to learn more about interactive tables.';\n",
              "          element.innerHTML = '';\n",
              "          dataTable['output_type'] = 'display_data';\n",
              "          await google.colab.output.renderOutput(dataTable, element);\n",
              "          const docLink = document.createElement('div');\n",
              "          docLink.innerHTML = docLinkHtml;\n",
              "          element.appendChild(docLink);\n",
              "        }\n",
              "      </script>\n",
              "    </div>\n",
              "  </div>\n",
              "  "
            ]
          },
          "metadata": {},
          "execution_count": 4
        }
      ],
      "source": [
        "# Read the new dataset that we was created in the above\n",
        "dataset = pd.read_csv('labeled_validation_dataset.csv')\n",
        "# display the dataset\n",
        "dataset.head()"
      ]
    },
    {
      "cell_type": "markdown",
      "metadata": {
        "id": "aimtWLPG6oON"
      },
      "source": [
        "# 📑 Step 2: Exploratory Data Analysis (EDA)"
      ]
    },
    {
      "cell_type": "markdown",
      "source": [
        "Not now.."
      ],
      "metadata": {
        "id": "s6N5jVgNQjnR"
      }
    },
    {
      "cell_type": "code",
      "source": [
        "dataset.info()"
      ],
      "metadata": {
        "colab": {
          "base_uri": "https://localhost:8080/"
        },
        "id": "YC35tKUFTUgN",
        "outputId": "c1cf4e76-5189-4b42-941a-1cfc2dd49e19"
      },
      "execution_count": null,
      "outputs": [
        {
          "output_type": "stream",
          "name": "stdout",
          "text": [
            "<class 'pandas.core.frame.DataFrame'>\n",
            "RangeIndex: 154 entries, 0 to 153\n",
            "Data columns (total 2 columns):\n",
            " #   Column     Non-Null Count  Dtype \n",
            "---  ------     --------------  ----- \n",
            " 0   paragraph  154 non-null    object\n",
            " 1   summary    154 non-null    object\n",
            "dtypes: object(2)\n",
            "memory usage: 2.5+ KB\n"
          ]
        }
      ]
    },
    {
      "cell_type": "code",
      "source": [
        "dataset.shape"
      ],
      "metadata": {
        "colab": {
          "base_uri": "https://localhost:8080/"
        },
        "id": "4qGPZ84aTYat",
        "outputId": "49b54153-e993-4bc0-c2bd-dfaac04122a3"
      },
      "execution_count": null,
      "outputs": [
        {
          "output_type": "execute_result",
          "data": {
            "text/plain": [
              "(154, 2)"
            ]
          },
          "metadata": {},
          "execution_count": 6
        }
      ]
    },
    {
      "cell_type": "markdown",
      "source": [
        "### Number of tokens in a text\n",
        "> split text to tokens\n",
        "\n",
        "    - applies the split() method to each element in the 'text' column.\n",
        "    - It splits the text into a list of tokens,\n",
        "\n",
        "> mapping lambda function\n",
        "\n",
        "    - applies the map() method for each token in the text,\n",
        "    - it calculates the length of the token using len(i)\n",
        "\n",
        "> final result\n",
        "\n",
        "    - dataset_train['no_tokens']= stores the lengths of the words for each text."
      ],
      "metadata": {
        "id": "ST-cbxoZQerP"
      }
    },
    {
      "cell_type": "code",
      "source": [
        "dataset['tokens_paragraph']= dataset['paragraph'].str.split().map(lambda token: len(token))\n",
        "dataset.sample(10)"
      ],
      "metadata": {
        "colab": {
          "base_uri": "https://localhost:8080/",
          "height": 363
        },
        "id": "3FpMdk4-BPqU",
        "outputId": "325e6626-a5c1-4955-ab3e-cd7319842007"
      },
      "execution_count": null,
      "outputs": [
        {
          "output_type": "execute_result",
          "data": {
            "text/plain": [
              "                                             paragraph  \\\n",
              "134  عقب تأميم القناة والعدوان الثلاثي خاضت الحكومة...   \n",
              "143  وحكم الأتراك مصر على الطريقة التي حكمتها بها ر...   \n",
              "31   ويقول د . ماهر عبد القادر وكيل الكلية ورئيس تح...   \n",
              "126  في يوم 28 فبراير عام 1922 م عاد اللورد أدموند ...   \n",
              "19   جبيل .. مدينة الحرف وقبلة السياح تعتبر مدينة ج...   \n",
              "93   فلما ملك المستنصر سنة 427 ه أصبح الجند طائفتين...   \n",
              "8    وكان للبطل محمد علي فهمي بعض العمليات الهامة ق...   \n",
              "104  ومن الحضارات التي ازدهرت في شبه الجزيرة ، حضار...   \n",
              "54   دخلت بلاد فارس تاريخ الشرق الأوسط من الباب الو...   \n",
              "38   ثم عاد الزعيم عمر مكرم إلى القاهرة وتظاهر بالا...   \n",
              "\n",
              "                                               summary  tokens_paragraph  \n",
              "134  بعد العدوان الثلاثي دخلت مصر مفاوضات مع ادارة ...               342  \n",
              "143  الأتراك حكموا مصر مثل روما،ونقلوا الخليفة العب...               370  \n",
              "31   بنى مدينة الإسكندرية الإسكندر الأكبر ثم البطال...               329  \n",
              "126  اللورد أدموند عاد ومعه تصاريح وتشمل إعلان إنها...               376  \n",
              "19   تاريخ من العراقة وحكاية من العمران مازالت فصول...               351  \n",
              "93   عندما تولى المستنصر الحكم أصبح الجند طائفتين، ...               385  \n",
              "8    كان للبطل محمد علي فهمي بعض العمليات المهمة ال...               374  \n",
              "104  حضار قوم عاد من أقدم الحضارات التي ازدهرت في ش...               321  \n",
              "54   قورش العظيم مؤسس الدولة الأخمينية ( الفارسية )...               361  \n",
              "38   عاد مكرم مُظهرا الاعتزال للفرنسيين وكان يخطط م...               292  "
            ],
            "text/html": [
              "\n",
              "  <div id=\"df-d0eaec4c-5030-4dfd-8edf-49c456afeb3d\">\n",
              "    <div class=\"colab-df-container\">\n",
              "      <div>\n",
              "<style scoped>\n",
              "    .dataframe tbody tr th:only-of-type {\n",
              "        vertical-align: middle;\n",
              "    }\n",
              "\n",
              "    .dataframe tbody tr th {\n",
              "        vertical-align: top;\n",
              "    }\n",
              "\n",
              "    .dataframe thead th {\n",
              "        text-align: right;\n",
              "    }\n",
              "</style>\n",
              "<table border=\"1\" class=\"dataframe\">\n",
              "  <thead>\n",
              "    <tr style=\"text-align: right;\">\n",
              "      <th></th>\n",
              "      <th>paragraph</th>\n",
              "      <th>summary</th>\n",
              "      <th>tokens_paragraph</th>\n",
              "    </tr>\n",
              "  </thead>\n",
              "  <tbody>\n",
              "    <tr>\n",
              "      <th>134</th>\n",
              "      <td>عقب تأميم القناة والعدوان الثلاثي خاضت الحكومة...</td>\n",
              "      <td>بعد العدوان الثلاثي دخلت مصر مفاوضات مع ادارة ...</td>\n",
              "      <td>342</td>\n",
              "    </tr>\n",
              "    <tr>\n",
              "      <th>143</th>\n",
              "      <td>وحكم الأتراك مصر على الطريقة التي حكمتها بها ر...</td>\n",
              "      <td>الأتراك حكموا مصر مثل روما،ونقلوا الخليفة العب...</td>\n",
              "      <td>370</td>\n",
              "    </tr>\n",
              "    <tr>\n",
              "      <th>31</th>\n",
              "      <td>ويقول د . ماهر عبد القادر وكيل الكلية ورئيس تح...</td>\n",
              "      <td>بنى مدينة الإسكندرية الإسكندر الأكبر ثم البطال...</td>\n",
              "      <td>329</td>\n",
              "    </tr>\n",
              "    <tr>\n",
              "      <th>126</th>\n",
              "      <td>في يوم 28 فبراير عام 1922 م عاد اللورد أدموند ...</td>\n",
              "      <td>اللورد أدموند عاد ومعه تصاريح وتشمل إعلان إنها...</td>\n",
              "      <td>376</td>\n",
              "    </tr>\n",
              "    <tr>\n",
              "      <th>19</th>\n",
              "      <td>جبيل .. مدينة الحرف وقبلة السياح تعتبر مدينة ج...</td>\n",
              "      <td>تاريخ من العراقة وحكاية من العمران مازالت فصول...</td>\n",
              "      <td>351</td>\n",
              "    </tr>\n",
              "    <tr>\n",
              "      <th>93</th>\n",
              "      <td>فلما ملك المستنصر سنة 427 ه أصبح الجند طائفتين...</td>\n",
              "      <td>عندما تولى المستنصر الحكم أصبح الجند طائفتين، ...</td>\n",
              "      <td>385</td>\n",
              "    </tr>\n",
              "    <tr>\n",
              "      <th>8</th>\n",
              "      <td>وكان للبطل محمد علي فهمي بعض العمليات الهامة ق...</td>\n",
              "      <td>كان للبطل محمد علي فهمي بعض العمليات المهمة ال...</td>\n",
              "      <td>374</td>\n",
              "    </tr>\n",
              "    <tr>\n",
              "      <th>104</th>\n",
              "      <td>ومن الحضارات التي ازدهرت في شبه الجزيرة ، حضار...</td>\n",
              "      <td>حضار قوم عاد من أقدم الحضارات التي ازدهرت في ش...</td>\n",
              "      <td>321</td>\n",
              "    </tr>\n",
              "    <tr>\n",
              "      <th>54</th>\n",
              "      <td>دخلت بلاد فارس تاريخ الشرق الأوسط من الباب الو...</td>\n",
              "      <td>قورش العظيم مؤسس الدولة الأخمينية ( الفارسية )...</td>\n",
              "      <td>361</td>\n",
              "    </tr>\n",
              "    <tr>\n",
              "      <th>38</th>\n",
              "      <td>ثم عاد الزعيم عمر مكرم إلى القاهرة وتظاهر بالا...</td>\n",
              "      <td>عاد مكرم مُظهرا الاعتزال للفرنسيين وكان يخطط م...</td>\n",
              "      <td>292</td>\n",
              "    </tr>\n",
              "  </tbody>\n",
              "</table>\n",
              "</div>\n",
              "      <button class=\"colab-df-convert\" onclick=\"convertToInteractive('df-d0eaec4c-5030-4dfd-8edf-49c456afeb3d')\"\n",
              "              title=\"Convert this dataframe to an interactive table.\"\n",
              "              style=\"display:none;\">\n",
              "        \n",
              "  <svg xmlns=\"http://www.w3.org/2000/svg\" height=\"24px\"viewBox=\"0 0 24 24\"\n",
              "       width=\"24px\">\n",
              "    <path d=\"M0 0h24v24H0V0z\" fill=\"none\"/>\n",
              "    <path d=\"M18.56 5.44l.94 2.06.94-2.06 2.06-.94-2.06-.94-.94-2.06-.94 2.06-2.06.94zm-11 1L8.5 8.5l.94-2.06 2.06-.94-2.06-.94L8.5 2.5l-.94 2.06-2.06.94zm10 10l.94 2.06.94-2.06 2.06-.94-2.06-.94-.94-2.06-.94 2.06-2.06.94z\"/><path d=\"M17.41 7.96l-1.37-1.37c-.4-.4-.92-.59-1.43-.59-.52 0-1.04.2-1.43.59L10.3 9.45l-7.72 7.72c-.78.78-.78 2.05 0 2.83L4 21.41c.39.39.9.59 1.41.59.51 0 1.02-.2 1.41-.59l7.78-7.78 2.81-2.81c.8-.78.8-2.07 0-2.86zM5.41 20L4 18.59l7.72-7.72 1.47 1.35L5.41 20z\"/>\n",
              "  </svg>\n",
              "      </button>\n",
              "      \n",
              "  <style>\n",
              "    .colab-df-container {\n",
              "      display:flex;\n",
              "      flex-wrap:wrap;\n",
              "      gap: 12px;\n",
              "    }\n",
              "\n",
              "    .colab-df-convert {\n",
              "      background-color: #E8F0FE;\n",
              "      border: none;\n",
              "      border-radius: 50%;\n",
              "      cursor: pointer;\n",
              "      display: none;\n",
              "      fill: #1967D2;\n",
              "      height: 32px;\n",
              "      padding: 0 0 0 0;\n",
              "      width: 32px;\n",
              "    }\n",
              "\n",
              "    .colab-df-convert:hover {\n",
              "      background-color: #E2EBFA;\n",
              "      box-shadow: 0px 1px 2px rgba(60, 64, 67, 0.3), 0px 1px 3px 1px rgba(60, 64, 67, 0.15);\n",
              "      fill: #174EA6;\n",
              "    }\n",
              "\n",
              "    [theme=dark] .colab-df-convert {\n",
              "      background-color: #3B4455;\n",
              "      fill: #D2E3FC;\n",
              "    }\n",
              "\n",
              "    [theme=dark] .colab-df-convert:hover {\n",
              "      background-color: #434B5C;\n",
              "      box-shadow: 0px 1px 3px 1px rgba(0, 0, 0, 0.15);\n",
              "      filter: drop-shadow(0px 1px 2px rgba(0, 0, 0, 0.3));\n",
              "      fill: #FFFFFF;\n",
              "    }\n",
              "  </style>\n",
              "\n",
              "      <script>\n",
              "        const buttonEl =\n",
              "          document.querySelector('#df-d0eaec4c-5030-4dfd-8edf-49c456afeb3d button.colab-df-convert');\n",
              "        buttonEl.style.display =\n",
              "          google.colab.kernel.accessAllowed ? 'block' : 'none';\n",
              "\n",
              "        async function convertToInteractive(key) {\n",
              "          const element = document.querySelector('#df-d0eaec4c-5030-4dfd-8edf-49c456afeb3d');\n",
              "          const dataTable =\n",
              "            await google.colab.kernel.invokeFunction('convertToInteractive',\n",
              "                                                     [key], {});\n",
              "          if (!dataTable) return;\n",
              "\n",
              "          const docLinkHtml = 'Like what you see? Visit the ' +\n",
              "            '<a target=\"_blank\" href=https://colab.research.google.com/notebooks/data_table.ipynb>data table notebook</a>'\n",
              "            + ' to learn more about interactive tables.';\n",
              "          element.innerHTML = '';\n",
              "          dataTable['output_type'] = 'display_data';\n",
              "          await google.colab.output.renderOutput(dataTable, element);\n",
              "          const docLink = document.createElement('div');\n",
              "          docLink.innerHTML = docLinkHtml;\n",
              "          element.appendChild(docLink);\n",
              "        }\n",
              "      </script>\n",
              "    </div>\n",
              "  </div>\n",
              "  "
            ]
          },
          "metadata": {},
          "execution_count": 7
        }
      ]
    },
    {
      "cell_type": "code",
      "source": [
        "plt.figure(figsize=(10, 6))\n",
        "\n",
        "dataset['tokens_paragraph'].plot(bins=35,\n",
        "                            kind='hist',\n",
        "                            color='red',\n",
        "                            label='paragraph',\n",
        "                            alpha=0.6)\n",
        "\n",
        "plt.legend(loc='upper right')\n",
        "plt.xlabel(\"Numbers of tokens\")\n",
        "plt.ylabel(\"Numbers of texts\")\n",
        "plt.show()"
      ],
      "metadata": {
        "colab": {
          "base_uri": "https://localhost:8080/",
          "height": 542
        },
        "id": "v0s8l7wfQ2N8",
        "outputId": "48f7b143-a4d4-43e5-c752-990049e5883c"
      },
      "execution_count": null,
      "outputs": [
        {
          "output_type": "display_data",
          "data": {
            "text/plain": [
              "<Figure size 1000x600 with 1 Axes>"
            ],
            "image/png": "[encoded data removed]"
          },
          "metadata": {}
        }
      ]
    },
    {
      "cell_type": "markdown",
      "source": [
        "max tokens"
      ],
      "metadata": {
        "id": "yNvvH81FTh3s"
      }
    },
    {
      "cell_type": "code",
      "source": [
        "max_tokens= dataset['tokens_paragraph'].max()\n",
        "max_tokens"
      ],
      "metadata": {
        "colab": {
          "base_uri": "https://localhost:8080/"
        },
        "id": "M81QJxskUDFf",
        "outputId": "eb0e7ff5-6df8-448a-c53e-446ef942638d"
      },
      "execution_count": null,
      "outputs": [
        {
          "output_type": "execute_result",
          "data": {
            "text/plain": [
              "400"
            ]
          },
          "metadata": {},
          "execution_count": 9
        }
      ]
    },
    {
      "cell_type": "markdown",
      "source": [
        "show max tokens"
      ],
      "metadata": {
        "id": "0pCBQSEGWzxJ"
      }
    },
    {
      "cell_type": "code",
      "source": [
        "dataset[dataset['tokens_paragraph'] == max_tokens]['paragraph']"
      ],
      "metadata": {
        "colab": {
          "base_uri": "https://localhost:8080/"
        },
        "id": "yE7qmJDgTkMF",
        "outputId": "38ad4c81-b4c0-49a0-8dd3-3a0578718f3c"
      },
      "execution_count": null,
      "outputs": [
        {
          "output_type": "execute_result",
          "data": {
            "text/plain": [
              "116    وبعد أن قامت حكومة الوفد بإلغاء معاهدة عام 193...\n",
              "Name: paragraph, dtype: object"
            ]
          },
          "metadata": {},
          "execution_count": 10
        }
      ]
    },
    {
      "cell_type": "markdown",
      "source": [
        "# Step 3: Load the Pretrained Transformer Model (mT5) on GPU"
      ],
      "metadata": {
        "id": "WpCltonuA116"
      }
    },
    {
      "cell_type": "code",
      "source": [
        "# model_name = \"arabert/arb-summarization-pegasus\"\n",
        "# model_name = \"facebook/bart-large\"\n",
        "# model_name = \"asafaya/bert-base-arabic-t5\"\n",
        "\n",
        "# define pretrained model on GPU\n",
        "model_name= \"eslamxm/mt5-base-arabic\"\n",
        "tokenizer = AutoTokenizer.from_pretrained(model_name)\n",
        "device = \"cuda\" if torch.cuda.is_available() else \"cpu\"\n",
        "model = AutoModelForSeq2SeqLM.from_pretrained(model_name).to(device)\n",
        "\n",
        "# pass first parameter is 'summarization' for abstractive text summarization.\n",
        "# model = pipeline(\"summarization\", model=model_name, tokenizer=model_name, device=device)"
      ],
      "metadata": {
        "id": "6LAI7FMPP5vR"
      },
      "execution_count": null,
      "outputs": []
    },
    {
      "cell_type": "markdown",
      "source": [
        "# Step 4: Fine-tuning the model"
      ],
      "metadata": {
        "id": "FP5KpfIdM-Yv"
      }
    },
    {
      "cell_type": "markdown",
      "source": [
        "Fine-tuning the *model*"
      ],
      "metadata": {
        "id": "TIggi7dYNbRl"
      }
    },
    {
      "cell_type": "code",
      "source": [
        "optimizer = AdamW(model.parameters(), lr=1e-5)\n",
        "model.train()"
      ],
      "metadata": {
        "colab": {
          "base_uri": "https://localhost:8080/"
        },
        "id": "OMYnxmQdNeEw",
        "outputId": "c534a62a-7561-471b-911e-1a18d88ec90e"
      },
      "execution_count": null,
      "outputs": [
        {
          "output_type": "stream",
          "name": "stderr",
          "text": [
            "/usr/local/lib/python3.10/dist-packages/transformers/optimization.py:411: FutureWarning: This implementation of AdamW is deprecated and will be removed in a future version. Use the PyTorch implementation torch.optim.AdamW instead, or set `no_deprecation_warning=True` to disable this warning\n",
            "  warnings.warn(\n"
          ]
        },
        {
          "output_type": "execute_result",
          "data": {
            "text/plain": [
              "MT5ForConditionalGeneration(\n",
              "  (shared): Embedding(250112, 768)\n",
              "  (encoder): MT5Stack(\n",
              "    (embed_tokens): Embedding(250112, 768)\n",
              "    (block): ModuleList(\n",
              "      (0): MT5Block(\n",
              "        (layer): ModuleList(\n",
              "          (0): MT5LayerSelfAttention(\n",
              "            (SelfAttention): MT5Attention(\n",
              "              (q): Linear(in_features=768, out_features=768, bias=False)\n",
              "              (k): Linear(in_features=768, out_features=768, bias=False)\n",
              "              (v): Linear(in_features=768, out_features=768, bias=False)\n",
              "              (o): Linear(in_features=768, out_features=768, bias=False)\n",
              "              (relative_attention_bias): Embedding(32, 12)\n",
              "            )\n",
              "            (layer_norm): MT5LayerNorm()\n",
              "            (dropout): Dropout(p=0.1, inplace=False)\n",
              "          )\n",
              "          (1): MT5LayerFF(\n",
              "            (DenseReluDense): MT5DenseGatedActDense(\n",
              "              (wi_0): Linear(in_features=768, out_features=2048, bias=False)\n",
              "              (wi_1): Linear(in_features=768, out_features=2048, bias=False)\n",
              "              (wo): Linear(in_features=2048, out_features=768, bias=False)\n",
              "              (dropout): Dropout(p=0.1, inplace=False)\n",
              "              (act): NewGELUActivation()\n",
              "            )\n",
              "            (layer_norm): MT5LayerNorm()\n",
              "            (dropout): Dropout(p=0.1, inplace=False)\n",
              "          )\n",
              "        )\n",
              "      )\n",
              "      (1-11): 11 x MT5Block(\n",
              "        (layer): ModuleList(\n",
              "          (0): MT5LayerSelfAttention(\n",
              "            (SelfAttention): MT5Attention(\n",
              "              (q): Linear(in_features=768, out_features=768, bias=False)\n",
              "              (k): Linear(in_features=768, out_features=768, bias=False)\n",
              "              (v): Linear(in_features=768, out_features=768, bias=False)\n",
              "              (o): Linear(in_features=768, out_features=768, bias=False)\n",
              "            )\n",
              "            (layer_norm): MT5LayerNorm()\n",
              "            (dropout): Dropout(p=0.1, inplace=False)\n",
              "          )\n",
              "          (1): MT5LayerFF(\n",
              "            (DenseReluDense): MT5DenseGatedActDense(\n",
              "              (wi_0): Linear(in_features=768, out_features=2048, bias=False)\n",
              "              (wi_1): Linear(in_features=768, out_features=2048, bias=False)\n",
              "              (wo): Linear(in_features=2048, out_features=768, bias=False)\n",
              "              (dropout): Dropout(p=0.1, inplace=False)\n",
              "              (act): NewGELUActivation()\n",
              "            )\n",
              "            (layer_norm): MT5LayerNorm()\n",
              "            (dropout): Dropout(p=0.1, inplace=False)\n",
              "          )\n",
              "        )\n",
              "      )\n",
              "    )\n",
              "    (final_layer_norm): MT5LayerNorm()\n",
              "    (dropout): Dropout(p=0.1, inplace=False)\n",
              "  )\n",
              "  (decoder): MT5Stack(\n",
              "    (embed_tokens): Embedding(250112, 768)\n",
              "    (block): ModuleList(\n",
              "      (0): MT5Block(\n",
              "        (layer): ModuleList(\n",
              "          (0): MT5LayerSelfAttention(\n",
              "            (SelfAttention): MT5Attention(\n",
              "              (q): Linear(in_features=768, out_features=768, bias=False)\n",
              "              (k): Linear(in_features=768, out_features=768, bias=False)\n",
              "              (v): Linear(in_features=768, out_features=768, bias=False)\n",
              "              (o): Linear(in_features=768, out_features=768, bias=False)\n",
              "              (relative_attention_bias): Embedding(32, 12)\n",
              "            )\n",
              "            (layer_norm): MT5LayerNorm()\n",
              "            (dropout): Dropout(p=0.1, inplace=False)\n",
              "          )\n",
              "          (1): MT5LayerCrossAttention(\n",
              "            (EncDecAttention): MT5Attention(\n",
              "              (q): Linear(in_features=768, out_features=768, bias=False)\n",
              "              (k): Linear(in_features=768, out_features=768, bias=False)\n",
              "              (v): Linear(in_features=768, out_features=768, bias=False)\n",
              "              (o): Linear(in_features=768, out_features=768, bias=False)\n",
              "            )\n",
              "            (layer_norm): MT5LayerNorm()\n",
              "            (dropout): Dropout(p=0.1, inplace=False)\n",
              "          )\n",
              "          (2): MT5LayerFF(\n",
              "            (DenseReluDense): MT5DenseGatedActDense(\n",
              "              (wi_0): Linear(in_features=768, out_features=2048, bias=False)\n",
              "              (wi_1): Linear(in_features=768, out_features=2048, bias=False)\n",
              "              (wo): Linear(in_features=2048, out_features=768, bias=False)\n",
              "              (dropout): Dropout(p=0.1, inplace=False)\n",
              "              (act): NewGELUActivation()\n",
              "            )\n",
              "            (layer_norm): MT5LayerNorm()\n",
              "            (dropout): Dropout(p=0.1, inplace=False)\n",
              "          )\n",
              "        )\n",
              "      )\n",
              "      (1-11): 11 x MT5Block(\n",
              "        (layer): ModuleList(\n",
              "          (0): MT5LayerSelfAttention(\n",
              "            (SelfAttention): MT5Attention(\n",
              "              (q): Linear(in_features=768, out_features=768, bias=False)\n",
              "              (k): Linear(in_features=768, out_features=768, bias=False)\n",
              "              (v): Linear(in_features=768, out_features=768, bias=False)\n",
              "              (o): Linear(in_features=768, out_features=768, bias=False)\n",
              "            )\n",
              "            (layer_norm): MT5LayerNorm()\n",
              "            (dropout): Dropout(p=0.1, inplace=False)\n",
              "          )\n",
              "          (1): MT5LayerCrossAttention(\n",
              "            (EncDecAttention): MT5Attention(\n",
              "              (q): Linear(in_features=768, out_features=768, bias=False)\n",
              "              (k): Linear(in_features=768, out_features=768, bias=False)\n",
              "              (v): Linear(in_features=768, out_features=768, bias=False)\n",
              "              (o): Linear(in_features=768, out_features=768, bias=False)\n",
              "            )\n",
              "            (layer_norm): MT5LayerNorm()\n",
              "            (dropout): Dropout(p=0.1, inplace=False)\n",
              "          )\n",
              "          (2): MT5LayerFF(\n",
              "            (DenseReluDense): MT5DenseGatedActDense(\n",
              "              (wi_0): Linear(in_features=768, out_features=2048, bias=False)\n",
              "              (wi_1): Linear(in_features=768, out_features=2048, bias=False)\n",
              "              (wo): Linear(in_features=2048, out_features=768, bias=False)\n",
              "              (dropout): Dropout(p=0.1, inplace=False)\n",
              "              (act): NewGELUActivation()\n",
              "            )\n",
              "            (layer_norm): MT5LayerNorm()\n",
              "            (dropout): Dropout(p=0.1, inplace=False)\n",
              "          )\n",
              "        )\n",
              "      )\n",
              "    )\n",
              "    (final_layer_norm): MT5LayerNorm()\n",
              "    (dropout): Dropout(p=0.1, inplace=False)\n",
              "  )\n",
              "  (lm_head): Linear(in_features=768, out_features=250112, bias=False)\n",
              ")"
            ]
          },
          "metadata": {},
          "execution_count": 12
        }
      ]
    },
    {
      "cell_type": "markdown",
      "source": [
        "Prepare the training data"
      ],
      "metadata": {
        "id": "wx3aijVZIBWU"
      }
    },
    {
      "cell_type": "code",
      "source": [
        "train_data = dataset[:100]  # Adjust the number of training examples as per your dataset size\n",
        "train_encodings = tokenizer(train_data['paragraph'].tolist(), truncation=True, padding=True, max_length=512, return_tensors='pt')\n",
        "train_labels = tokenizer(train_data['summary'].tolist(), truncation=True, padding=True, max_length=128, return_tensors='pt')"
      ],
      "metadata": {
        "id": "9SymZeTMICEU"
      },
      "execution_count": null,
      "outputs": []
    },
    {
      "cell_type": "code",
      "source": [
        "train_dataset = torch.utils.data.TensorDataset(train_encodings.input_ids, train_encodings.attention_mask, train_labels.input_ids, train_labels.attention_mask)\n",
        "train_loader = torch.utils.data.DataLoader(train_dataset, batch_size=4, shuffle=True)"
      ],
      "metadata": {
        "id": "EYCWzE-4IRQO"
      },
      "execution_count": null,
      "outputs": []
    },
    {
      "cell_type": "code",
      "source": [
        "epochs = 3  # Adjust the number of epochs as per your preference\n",
        "\n",
        "for epoch in range(epochs):\n",
        "    total_loss = 0\n",
        "    for batch in train_loader:\n",
        "        input_ids, attention_mask, labels, labels_attention_mask = batch\n",
        "        input_ids = input_ids.to(device)\n",
        "        attention_mask = attention_mask.to(device)\n",
        "        labels = labels.to(device)\n",
        "        labels_attention_mask = labels_attention_mask.to(device)\n",
        "\n",
        "        optimizer.zero_grad()\n",
        "\n",
        "        outputs = model(input_ids=input_ids, attention_mask=attention_mask, labels=labels, decoder_attention_mask=labels_attention_mask)\n",
        "        loss = outputs.loss\n",
        "        total_loss += loss.item()\n",
        "\n",
        "        loss.backward()\n",
        "        optimizer.step()\n",
        "\n",
        "    average_loss = total_loss / len(train_loader)\n",
        "    print(f\"Epoch {epoch + 1}/{epochs}: Average Loss = {average_loss}\")"
      ],
      "metadata": {
        "id": "eQWfVFYZIRG_"
      },
      "execution_count": null,
      "outputs": []
    },
    {
      "cell_type": "code",
      "source": [
        "epochs = 3  # Adjust the number of epochs as per your preference\n",
        "accumulation_steps = 4  # Number of steps to accumulate gradients before performing an update\n",
        "total_loss = 0\n",
        "steps = 0\n",
        "\n",
        "for epoch in range(epochs):\n",
        "    model.train()\n",
        "    for batch in train_loader:\n",
        "        input_ids, attention_mask, labels, labels_attention_mask = batch\n",
        "        input_ids = input_ids.to(device)\n",
        "        attention_mask = attention_mask.to(device)\n",
        "        labels = labels.to(device)\n",
        "        labels_attention_mask = labels_attention_mask.to(device)\n",
        "\n",
        "        optimizer.zero_grad()\n",
        "\n",
        "        outputs = model(input_ids=input_ids, attention_mask=attention_mask, labels=labels, decoder_attention_mask=labels_attention_mask)\n",
        "        loss = outputs.loss\n",
        "\n",
        "        loss = loss / accumulation_steps  # Scale the loss by the number of accumulation steps\n",
        "\n",
        "        loss.backward()\n",
        "\n",
        "        total_loss += loss.item()\n",
        "\n",
        "        steps += 1\n",
        "        if steps % accumulation_steps == 0:\n",
        "            optimizer.step()  # Perform parameter update every accumulation_steps\n",
        "\n",
        "            # Print average loss every accumulation_steps\n",
        "            average_loss = total_loss / accumulation_steps\n",
        "            print(f\"Epoch {epoch + 1}/{epochs}, Step {steps}: Average Loss = {average_loss}\")\n",
        "\n",
        "            total_loss = 0\n",
        "\n",
        "    # Perform a final update if there are remaining accumulated gradients\n",
        "    if steps % accumulation_steps != 0:\n",
        "        optimizer.step()\n",
        "        optimizer.zero_grad()\n",
        "\n",
        "    # Print average loss at the end of each epoch\n",
        "    average_loss = total_loss / accumulation_steps\n",
        "    print(f\"Epoch {epoch + 1}/{epochs}: Average Loss = {average_loss}\")\n"
      ],
      "metadata": {
        "id": "56gEpkfCAkJU"
      },
      "execution_count": null,
      "outputs": []
    },
    {
      "cell_type": "markdown",
      "source": [
        "# Step 5: Tokenization and get generated summaries or hypotheses on GPU"
      ],
      "metadata": {
        "id": "H38q8kMoCfzE"
      }
    },
    {
      "cell_type": "code",
      "source": [
        "generated_summaries = []\n",
        "\n",
        "for index, row in dataset.iterrows():\n",
        "    input_text = row['paragraph']\n",
        "    # encoding step\n",
        "    input_tokens = tokenizer.encode(input_text, truncation=True, padding=True, return_tensors=\"pt\").to(device)\n",
        "    # generation step\n",
        "    summary_ids = model.generate(input_tokens, num_beams=4, max_length=300, early_stopping=True)\n",
        "    # decoding step\n",
        "    summary = tokenizer.decode(summary_ids[0], skip_special_tokens=True)\n",
        "\n",
        "    # we can replace 3 steps with one step pipeline\n",
        "    # summary = model(input_text, max_length=100, num_beams=4, early_stopping=True)[0]['summary_text']\n",
        "    '''\n",
        "    + Encoding:\n",
        "    - Pipeline automatically handles the encoding of the input text using the specified tokenizer associated with the model.\n",
        "    + Generation:\n",
        "    - Handles the generation of the summary by specifying the 'max_length', 'num_beams', and 'early_stopping' parameters.\n",
        "    + Decoding:\n",
        "    - Extract index 0 which is generated summary from the pipeline's output, which is a dictionary.\n",
        "    '''\n",
        "    generated_summaries.append(summary)"
      ],
      "metadata": {
        "id": "r81Ur9_LCSmh"
      },
      "execution_count": null,
      "outputs": []
    },
    {
      "cell_type": "markdown",
      "source": [
        "Add the column generated summaries or hypotheses to the dataset"
      ],
      "metadata": {
        "id": "XryFtp8lCq0z"
      }
    },
    {
      "cell_type": "code",
      "source": [
        "dataset['generated_summary'] = generated_summaries"
      ],
      "metadata": {
        "id": "OPt0lMGKCp60"
      },
      "execution_count": null,
      "outputs": []
    },
    {
      "cell_type": "markdown",
      "source": [
        "Print the updated dataset with generated summaries"
      ],
      "metadata": {
        "id": "o5qjJqgSC5hk"
      }
    },
    {
      "cell_type": "code",
      "source": [
        "dataset.head()"
      ],
      "metadata": {
        "id": "EBnWsehWC69s"
      },
      "execution_count": null,
      "outputs": []
    },
    {
      "cell_type": "markdown",
      "source": [
        "# Step 6: Evaluation using ROUGE metrics\n",
        "+ ROUGE: (Recall-Oriented Understudy for Gisting Evaluation)\n",
        "+ used for evaluating the quality of text summarization outputs."
      ],
      "metadata": {
        "id": "7SMUFbpSyigK"
      }
    },
    {
      "cell_type": "markdown",
      "source": [
        "Initialize object from ROUGE metric"
      ],
      "metadata": {
        "id": "gYIbyXzT2vmF"
      }
    },
    {
      "cell_type": "code",
      "source": [
        "rouge = Rouge()"
      ],
      "metadata": {
        "id": "ITIGsN_GymRo"
      },
      "execution_count": null,
      "outputs": []
    },
    {
      "cell_type": "markdown",
      "source": [
        "+ Prepare the references and hypotheses:\n",
        "  - column [summary] is references..\n",
        "      - Convert the reference summaries from the dataset into a list\n",
        "  - column [generated_summary] is hypotheses..\n",
        "      - Convert the generated summaries into a list"
      ],
      "metadata": {
        "id": "FBj4NFT13J7a"
      }
    },
    {
      "cell_type": "code",
      "source": [
        "references = dataset['summary'].tolist()\n",
        "hypotheses = dataset['generated_summary'].tolist()"
      ],
      "metadata": {
        "id": "8yD21nV4yqUV"
      },
      "execution_count": null,
      "outputs": []
    },
    {
      "cell_type": "markdown",
      "source": [
        "- Pass hypotheses and references for method get_scores to compute the ROUGE scores:\n",
        "- avg= True >> compute average scores for all the scores."
      ],
      "metadata": {
        "id": "JpY55wA_4vo8"
      }
    },
    {
      "cell_type": "code",
      "source": [
        "scores = rouge.get_scores(hypotheses, references, avg=True)"
      ],
      "metadata": {
        "id": "zKw66c2nyqQo"
      },
      "execution_count": null,
      "outputs": []
    },
    {
      "cell_type": "markdown",
      "source": [
        "- ROUGE-1: measures the overlap of `unigrams (single words)` between the generated summary (hypotheses) and the reference summary.\n",
        "\n",
        "- ROUGE-2: measures the overlap of `bigrams (pairs of consecutive words)` between the generated summary (hypotheses) and the reference summary.\n",
        "\n",
        "- ROUGE-L: measures the `longest common subsequence (LCS)` between the generated summary (hypotheses) and the reference summary.\n",
        "\n",
        "- Precision: ratio of the number of overlapping unigrams (ROUGE-1), bigrams (ROUGE-2) or LCS (ROUGE-L) between the generated and reference summaries to the number of unigrams or bigrams or LCS in the `generated summary`.\n",
        "\n",
        "- Recall: ratio of the number of overlapping unigrams (ROUGE-1), bigrams (ROUGE-2) or LCS (ROUGE-L) between the generated and reference summaries to the number of unigrams or bigrams or LCS in the `reference summary`.\n",
        "\n",
        "- ROUGE-1 Score: `harmonic mean` of precision and recall."
      ],
      "metadata": {
        "id": "3W7kMtej55BK"
      }
    },
    {
      "cell_type": "code",
      "source": [
        "print(\"ROUGE-1: \", scores['rouge-1'])\n",
        "print(\"ROUGE-2: \", scores['rouge-2'])\n",
        "print(\"ROUGE-L: \", scores['rouge-l'])\n",
        "print(\"Precision: \", scores['rouge-1']['p'])\n",
        "print(\"Recall: \", scores['rouge-1']['r'])\n",
        "print(\"ROUGE-1 Score: \", scores['rouge-1']['f'])"
      ],
      "metadata": {
        "id": "97i8pqcEyqKx"
      },
      "execution_count": null,
      "outputs": []
    },
    {
      "cell_type": "markdown",
      "source": [
        "# Step 7: Save the model"
      ],
      "metadata": {
        "id": "w76euIw-GhBY"
      }
    },
    {
      "cell_type": "code",
      "source": [
        "model.save_pretrained(\"AS_mT5\")"
      ],
      "metadata": {
        "id": "1h7lNXmTGlvB"
      },
      "execution_count": null,
      "outputs": []
    },
    {
      "cell_type": "markdown",
      "source": [
        "# Step 8: Load the fine-tuned model for inference (Predict)"
      ],
      "metadata": {
        "id": "mRwI4FiII6sy"
      }
    },
    {
      "cell_type": "code",
      "source": [
        "load_model= r'AS_mT5'\n",
        "fine_tuned_model = AutoModelForSeq2SeqLM.from_pretrained(load_model)\n",
        "tokenizer = AutoTokenizer.from_pretrained(load_model)\n",
        "summarizer = pipeline(\"summarization\", model=fine_tuned_model, tokenizer=tokenizer)"
      ],
      "metadata": {
        "id": "jIdVWwGEG_9b"
      },
      "execution_count": null,
      "outputs": []
    },
    {
      "cell_type": "markdown",
      "source": [
        "Test example"
      ],
      "metadata": {
        "id": "dWk2jMCZJWo5"
      }
    },
    {
      "cell_type": "code",
      "source": [
        "input_text = \"لم يعترف دبلوماسيو هاتين الدولتين بالعريضة التي وقعها الأعيان ، إذ اعتبروها محاولة فقط من سلطات الحماية لإجبار السلطان على قبول مخططاتها وذلك بالتوقيع على الظهائر . أما معارضة الدول العربية والآسيوية ، فإنها تمثلت في شنها لحملة شرسة عبر الصحافة والإذاعة ضد الإجراء الفرنسي . فما إن أعلن عن نبأ تنحية السلطان حتى أدان زعيم الحركة الوطنية علال الفاسي عبر إذاعة القاهرة في برنامج صوت العرب إبعاد السلطان هو وعائلته عن الوطن . وأما جامعة الدول العربية ، فقد عبرت عن تخوفاتها إزاء تطورات القضية المغربية وبدأت في الإلحاح على ضرورة استقلال المغرب . ومنذ 21 أغسطس 1953، أظهرت 15 دولة عربية آسيوية عضو في هيئة الأمم المتحدة انشغالها بمستقبل الاستقرار السياسي بشمال إفريقيا بعد عملية نفي محمد بن يوسف . وعلى مستوى العلاقات السياسية بين فرنسا وإسبانيا ، حدث الأمر نفسه . فحسب الوفق الذي أبرم بين البلدين يوم 27 نوفمبر 1912، فقد حدد أنه يتعهد البلدان بالتزام \\\" الاحترام إزاء الإمبراطورية الشريفة \\\"، في المنطقتين ، الخليفية التابعة للحماية الإسبانية ، والجنوبية ، الخاضعة للحماية الفرنسية . وقد استقبلت عملية تنصيب سلطان جديد على المغرب بإسبانيا بنوع من الاستياء ، إذ اعتبرته سلطات مدريد إعلانا لنوع من العداء ضدها . مما دفعها إلى تنظيم عملية توقيع عريضة مشابهة لتلك التي تمت بمراكش في المنطقة التي تخضع لسيطرتها . وتمكنت من جمع 430 توقيعا من باشوات وأعيان المنطقة الخليفية ركزت فيها على تثبيت فكرة \\\" تنحية السلطان الشرعي محمد بن يوسف ، نتيجة للدسائس التي حاكتها الإقامة العامة \\\" ورفض \\\" سلطة ابن عرفة .. والتي فرضتها فرنسا ضد إرادة الشعب المغربي \\\". ثم أعلنت العريضة \\\" أحقية السيادة التي يتمتع بها المهدي بن إسماعيل على المنطقة الخليفية \\\"، وذلك تحت إمرة سلطة فرانكو .\""
      ],
      "metadata": {
        "id": "O39uXlcqWlj3"
      },
      "execution_count": null,
      "outputs": []
    },
    {
      "cell_type": "code",
      "source": [
        "summary_text = summarizer(input_text, max_length=128, min_length=30, do_sample=False, early_stopping=True)[0]['summary_text']"
      ],
      "metadata": {
        "id": "_Mc2tw2sJYUa"
      },
      "execution_count": null,
      "outputs": []
    },
    {
      "cell_type": "markdown",
      "source": [
        "Result"
      ],
      "metadata": {
        "id": "f3qzE5W-JkEC"
      }
    },
    {
      "cell_type": "code",
      "source": [
        "print(f\"Summary: {summary_text}\")"
      ],
      "metadata": {
        "id": "98ZFvl7eJnmI"
      },
      "execution_count": null,
      "outputs": []
    }
  ],
  "metadata": {
    "kernelspec": {
      "display_name": "Python 3",
      "name": "python3"
    },
    "language_info": {
      "codemirror_mode": {
        "name": "ipython",
        "version": 3
      },
      "file_extension": ".py",
      "mimetype": "text/x-python",
      "name": "python",
      "nbconvert_exporter": "python",
      "pygments_lexer": "ipython3",
      "version": "3.11.0"
    },
    "orig_nbformat": 4,
    "colab": {
      "provenance": [],
      "gpuType": "T4"
    },
    "accelerator": "GPU"
  },
  "nbformat": 4,
  "nbformat_minor": 0
}
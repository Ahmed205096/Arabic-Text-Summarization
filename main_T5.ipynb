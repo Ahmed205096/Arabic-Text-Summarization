{
  "cells": [
    {
      "cell_type": "markdown",
      "metadata": {
        "id": "IRxoWDrS5DyI"
      },
      "source": [
        "🔍 Step 1: Load dataset"
      ]
    },
    {
      "cell_type": "code",
      "execution_count": null,
      "metadata": {
        "id": "JMAd2Ybb5KwJ"
      },
      "outputs": [],
      "source": [
        "import json # for dealing with Json files\n",
        "import pandas as pd # for dealing with dataset\n",
        "import csv # used to wirte the data in CVS file"
      ]
    },
    {
      "cell_type": "markdown",
      "metadata": {
        "id": "NtOgs4li5Iuw"
      },
      "source": [
        "Convert Json data to CVS file"
      ]
    },
    {
      "cell_type": "code",
      "execution_count": null,
      "metadata": {
        "id": "inY4O3KxA2Dl"
      },
      "outputs": [],
      "source": [
        "# The pass to the Json dataset (old)\n",
        "input_file = 'labeled_validation_dataset.jsonl'\n",
        "# The pass to the CSV dataset (new)\n",
        "output_file = 'labeled_validation_dataset.csv'\n",
        "\n",
        "# Read from the Json file and write in the CSV file\n",
        "with open(input_file, 'r', encoding='utf-8') as input, open(output_file, 'w', encoding='utf-8', newline='') as output:\n",
        "    # Write the rows in csv\n",
        "    writer = csv.writer(output)\n",
        "    # Create column names\n",
        "    writer.writerow(['paragraph', 'summary'])\n",
        "\n",
        "    # Loop on the input file and copy his content into output file\n",
        "    for line in input:\n",
        "        # Load the lines from Json data\n",
        "        data = json.loads(line)\n",
        "        # Copy the data\n",
        "        paragraph = data['paragraph']\n",
        "        summary = data['summary']\n",
        "\n",
        "        # Write the extracted data to the output file\n",
        "        writer.writerow([paragraph, summary])\n"
      ]
    },
    {
      "cell_type": "markdown",
      "metadata": {
        "id": "sOwUrKeFA5G2"
      },
      "source": [
        "load csv file"
      ]
    },
    {
      "cell_type": "code",
      "execution_count": null,
      "metadata": {
        "colab": {
          "base_uri": "https://localhost:8080/",
          "height": 206
        },
        "id": "Q5dCCXlFHij5",
        "outputId": "19b0fe9e-60b8-4829-a61f-2db76dcbdcdc"
      },
      "outputs": [
        {
          "output_type": "execute_result",
          "data": {
            "text/plain": [
              "                                           paragraph  \\\n",
              "0  وتحت عنوان من الكارثة إلى التحدى يبدأ الكاتب ع...   \n",
              "1  ولم يعترف دبلوماسيو هاتين الدولتين بالعريضة ال...   \n",
              "2  قامت ولاية حلب بعد اعلان الجنرال الفرنسي هنري ...   \n",
              "3  دولة مصر العربيه هي ليست اي دوله وليست اي شعب ...   \n",
              "4  السوريون يصرون على استقلال بلادهم : و مثلما رف...   \n",
              "\n",
              "                                             summary  \n",
              "0  يبدأ الكاتب عرض الكتاب الرابع تحت عنوان من الك...  \n",
              "1  دبلوماسيو الدولتين لم يعترفوا بالعريضة التي قا...  \n",
              "2  أعلن غورو الانتداب الفرنسي على سوريا لكي يعاقب...  \n",
              "3  مصر هي أم البلاد، وقائدة العرب؛ فهي أرض بلاد ا...  \n",
              "4  الشعب السوري يصر على استقلال بلدهم من السيطرة ...  "
            ],
            "text/html": [
              "\n",
              "  <div id=\"df-15b98e16-7799-4682-a2c9-93cdb6d4f3a8\">\n",
              "    <div class=\"colab-df-container\">\n",
              "      <div>\n",
              "<style scoped>\n",
              "    .dataframe tbody tr th:only-of-type {\n",
              "        vertical-align: middle;\n",
              "    }\n",
              "\n",
              "    .dataframe tbody tr th {\n",
              "        vertical-align: top;\n",
              "    }\n",
              "\n",
              "    .dataframe thead th {\n",
              "        text-align: right;\n",
              "    }\n",
              "</style>\n",
              "<table border=\"1\" class=\"dataframe\">\n",
              "  <thead>\n",
              "    <tr style=\"text-align: right;\">\n",
              "      <th></th>\n",
              "      <th>paragraph</th>\n",
              "      <th>summary</th>\n",
              "    </tr>\n",
              "  </thead>\n",
              "  <tbody>\n",
              "    <tr>\n",
              "      <th>0</th>\n",
              "      <td>وتحت عنوان من الكارثة إلى التحدى يبدأ الكاتب ع...</td>\n",
              "      <td>يبدأ الكاتب عرض الكتاب الرابع تحت عنوان من الك...</td>\n",
              "    </tr>\n",
              "    <tr>\n",
              "      <th>1</th>\n",
              "      <td>ولم يعترف دبلوماسيو هاتين الدولتين بالعريضة ال...</td>\n",
              "      <td>دبلوماسيو الدولتين لم يعترفوا بالعريضة التي قا...</td>\n",
              "    </tr>\n",
              "    <tr>\n",
              "      <th>2</th>\n",
              "      <td>قامت ولاية حلب بعد اعلان الجنرال الفرنسي هنري ...</td>\n",
              "      <td>أعلن غورو الانتداب الفرنسي على سوريا لكي يعاقب...</td>\n",
              "    </tr>\n",
              "    <tr>\n",
              "      <th>3</th>\n",
              "      <td>دولة مصر العربيه هي ليست اي دوله وليست اي شعب ...</td>\n",
              "      <td>مصر هي أم البلاد، وقائدة العرب؛ فهي أرض بلاد ا...</td>\n",
              "    </tr>\n",
              "    <tr>\n",
              "      <th>4</th>\n",
              "      <td>السوريون يصرون على استقلال بلادهم : و مثلما رف...</td>\n",
              "      <td>الشعب السوري يصر على استقلال بلدهم من السيطرة ...</td>\n",
              "    </tr>\n",
              "  </tbody>\n",
              "</table>\n",
              "</div>\n",
              "      <button class=\"colab-df-convert\" onclick=\"convertToInteractive('df-15b98e16-7799-4682-a2c9-93cdb6d4f3a8')\"\n",
              "              title=\"Convert this dataframe to an interactive table.\"\n",
              "              style=\"display:none;\">\n",
              "        \n",
              "  <svg xmlns=\"http://www.w3.org/2000/svg\" height=\"24px\"viewBox=\"0 0 24 24\"\n",
              "       width=\"24px\">\n",
              "    <path d=\"M0 0h24v24H0V0z\" fill=\"none\"/>\n",
              "    <path d=\"M18.56 5.44l.94 2.06.94-2.06 2.06-.94-2.06-.94-.94-2.06-.94 2.06-2.06.94zm-11 1L8.5 8.5l.94-2.06 2.06-.94-2.06-.94L8.5 2.5l-.94 2.06-2.06.94zm10 10l.94 2.06.94-2.06 2.06-.94-2.06-.94-.94-2.06-.94 2.06-2.06.94z\"/><path d=\"M17.41 7.96l-1.37-1.37c-.4-.4-.92-.59-1.43-.59-.52 0-1.04.2-1.43.59L10.3 9.45l-7.72 7.72c-.78.78-.78 2.05 0 2.83L4 21.41c.39.39.9.59 1.41.59.51 0 1.02-.2 1.41-.59l7.78-7.78 2.81-2.81c.8-.78.8-2.07 0-2.86zM5.41 20L4 18.59l7.72-7.72 1.47 1.35L5.41 20z\"/>\n",
              "  </svg>\n",
              "      </button>\n",
              "      \n",
              "  <style>\n",
              "    .colab-df-container {\n",
              "      display:flex;\n",
              "      flex-wrap:wrap;\n",
              "      gap: 12px;\n",
              "    }\n",
              "\n",
              "    .colab-df-convert {\n",
              "      background-color: #E8F0FE;\n",
              "      border: none;\n",
              "      border-radius: 50%;\n",
              "      cursor: pointer;\n",
              "      display: none;\n",
              "      fill: #1967D2;\n",
              "      height: 32px;\n",
              "      padding: 0 0 0 0;\n",
              "      width: 32px;\n",
              "    }\n",
              "\n",
              "    .colab-df-convert:hover {\n",
              "      background-color: #E2EBFA;\n",
              "      box-shadow: 0px 1px 2px rgba(60, 64, 67, 0.3), 0px 1px 3px 1px rgba(60, 64, 67, 0.15);\n",
              "      fill: #174EA6;\n",
              "    }\n",
              "\n",
              "    [theme=dark] .colab-df-convert {\n",
              "      background-color: #3B4455;\n",
              "      fill: #D2E3FC;\n",
              "    }\n",
              "\n",
              "    [theme=dark] .colab-df-convert:hover {\n",
              "      background-color: #434B5C;\n",
              "      box-shadow: 0px 1px 3px 1px rgba(0, 0, 0, 0.15);\n",
              "      filter: drop-shadow(0px 1px 2px rgba(0, 0, 0, 0.3));\n",
              "      fill: #FFFFFF;\n",
              "    }\n",
              "  </style>\n",
              "\n",
              "      <script>\n",
              "        const buttonEl =\n",
              "          document.querySelector('#df-15b98e16-7799-4682-a2c9-93cdb6d4f3a8 button.colab-df-convert');\n",
              "        buttonEl.style.display =\n",
              "          google.colab.kernel.accessAllowed ? 'block' : 'none';\n",
              "\n",
              "        async function convertToInteractive(key) {\n",
              "          const element = document.querySelector('#df-15b98e16-7799-4682-a2c9-93cdb6d4f3a8');\n",
              "          const dataTable =\n",
              "            await google.colab.kernel.invokeFunction('convertToInteractive',\n",
              "                                                     [key], {});\n",
              "          if (!dataTable) return;\n",
              "\n",
              "          const docLinkHtml = 'Like what you see? Visit the ' +\n",
              "            '<a target=\"_blank\" href=https://colab.research.google.com/notebooks/data_table.ipynb>data table notebook</a>'\n",
              "            + ' to learn more about interactive tables.';\n",
              "          element.innerHTML = '';\n",
              "          dataTable['output_type'] = 'display_data';\n",
              "          await google.colab.output.renderOutput(dataTable, element);\n",
              "          const docLink = document.createElement('div');\n",
              "          docLink.innerHTML = docLinkHtml;\n",
              "          element.appendChild(docLink);\n",
              "        }\n",
              "      </script>\n",
              "    </div>\n",
              "  </div>\n",
              "  "
            ]
          },
          "metadata": {},
          "execution_count": 3
        }
      ],
      "source": [
        "# Read the new dataset that we was created in the above\n",
        "reviews = pd.read_csv('/content/labeled_validation_dataset.csv')\n",
        "# display the dataset\n",
        "reviews.head()"
      ]
    },
    {
      "cell_type": "markdown",
      "metadata": {
        "id": "RjTPMD1kBHu9"
      },
      "source": [
        "# 📑 Step 2: Exploratory Data Analysis (EDA)"
      ]
    },
    {
      "cell_type": "code",
      "execution_count": null,
      "metadata": {
        "colab": {
          "base_uri": "https://localhost:8080/"
        },
        "id": "5Dmc3zsKBJfE",
        "outputId": "0cdca49d-f9e6-420c-cf30-81039db4b79d"
      },
      "outputs": [
        {
          "output_type": "stream",
          "name": "stdout",
          "text": [
            "<class 'pandas.core.frame.DataFrame'>\n",
            "RangeIndex: 154 entries, 0 to 153\n",
            "Data columns (total 2 columns):\n",
            " #   Column     Non-Null Count  Dtype \n",
            "---  ------     --------------  ----- \n",
            " 0   paragraph  154 non-null    object\n",
            " 1   summary    154 non-null    object\n",
            "dtypes: object(2)\n",
            "memory usage: 2.5+ KB\n"
          ]
        }
      ],
      "source": [
        "reviews.info()"
      ]
    },
    {
      "cell_type": "code",
      "execution_count": null,
      "metadata": {
        "colab": {
          "base_uri": "https://localhost:8080/"
        },
        "id": "PkeUdknLBNJy",
        "outputId": "226baeea-2b93-4053-dcdd-0b4ba9a1196c"
      },
      "outputs": [
        {
          "output_type": "execute_result",
          "data": {
            "text/plain": [
              "(154, 2)"
            ]
          },
          "metadata": {},
          "execution_count": 5
        }
      ],
      "source": [
        "reviews.shape"
      ]
    },
    {
      "cell_type": "markdown",
      "metadata": {
        "id": "RvE-NbI2BTDx"
      },
      "source": [
        "### Number of tokens in a text\n",
        "> split text to tokens\n",
        "\n",
        "    - applies the split() method to each element in the 'text' column.\n",
        "    - It splits the text into a list of tokens,\n",
        "\n",
        "> mapping lambda function\n",
        "\n",
        "    - applies the map() method for each token in the text,\n",
        "    - it calculates the length of the token using len(i)\n",
        "\n",
        "> final result\n",
        "\n",
        "    - dataset_train['no_tokens']= stores the lengths of the words for each text."
      ]
    },
    {
      "cell_type": "markdown",
      "metadata": {
        "id": "YEMdKdlTBeT4"
      },
      "source": [
        "create column from number of tokens paragraph"
      ]
    },
    {
      "cell_type": "code",
      "execution_count": null,
      "metadata": {
        "colab": {
          "base_uri": "https://localhost:8080/",
          "height": 363
        },
        "id": "rzuSy4_wBXMa",
        "outputId": "3ea1747a-80ff-472d-fe2f-e389d4f0ad45"
      },
      "outputs": [
        {
          "output_type": "execute_result",
          "data": {
            "text/plain": [
              "                                             paragraph  \\\n",
              "93   فلما ملك المستنصر سنة 427 ه أصبح الجند طائفتين...   \n",
              "41   أما بخصوص التنظيم والممارسات الإدارية المحلية ...   \n",
              "152  ولم تقتصر مقومات بورسعيد كمدينة عالمية منذ نشأ...   \n",
              "97   ليس هناك اتفاق بين الباحثين عن مبدأ قيام هذه ا...   \n",
              "123  وفي شهر أغسطس عام 1939 م قدمت وزارة محمد محمود...   \n",
              "103  قامت مصر بمنع السفن الاسرائيلية من أستخدام قنا...   \n",
              "83   عشية انهيار السلطنة العثمانية ، كانت الثورة ال...   \n",
              "8    وكان للبطل محمد علي فهمي بعض العمليات الهامة ق...   \n",
              "17   لم تكن تلك هي المرة الأولى التي تتعرض فيها صقل...   \n",
              "29   وكانت السياسة التركية مترددة غير مستقرة ، ترقب...   \n",
              "\n",
              "                                               summary  tokens_paragraph  \n",
              "93   عندما تولى المستنصر الحكم أصبح الجند طائفتين، ...               385  \n",
              "41   جعل الإمبراطور أغسطس مصر أشبه بضيعة خاصة به حت...               301  \n",
              "152  امتدت بورسعيد لكي تشمل الطابع الثقافي للمدينة،...               356  \n",
              "97   اختلف الباحثون حول بداية قيام هذه المملكة, لكن...               293  \n",
              "123  وزارة محمد باشا قدمت استقالتها للملك فاروق، وك...               383  \n",
              "103  منعت مصر اسرائيل من الملاحة في القناة وتصاعدت ...               384  \n",
              "83   بعد طرد الأتراك، أظهرت الثورة الرغبة بالتخلص م...               330  \n",
              "8    كان للبطل محمد علي فهمي بعض العمليات المهمة ال...               374  \n",
              "17   منذ فجر التاريخ وهى تداعب أنظار الغزاة فهى الج...               349  \n",
              "29   كانت سياسة تركيا هشة تراقب مصر ثم تصدر القرار ...               303  "
            ],
            "text/html": [
              "\n",
              "  <div id=\"df-8309ee3a-cab0-4e3e-bd4d-c18fed103552\">\n",
              "    <div class=\"colab-df-container\">\n",
              "      <div>\n",
              "<style scoped>\n",
              "    .dataframe tbody tr th:only-of-type {\n",
              "        vertical-align: middle;\n",
              "    }\n",
              "\n",
              "    .dataframe tbody tr th {\n",
              "        vertical-align: top;\n",
              "    }\n",
              "\n",
              "    .dataframe thead th {\n",
              "        text-align: right;\n",
              "    }\n",
              "</style>\n",
              "<table border=\"1\" class=\"dataframe\">\n",
              "  <thead>\n",
              "    <tr style=\"text-align: right;\">\n",
              "      <th></th>\n",
              "      <th>paragraph</th>\n",
              "      <th>summary</th>\n",
              "      <th>tokens_paragraph</th>\n",
              "    </tr>\n",
              "  </thead>\n",
              "  <tbody>\n",
              "    <tr>\n",
              "      <th>93</th>\n",
              "      <td>فلما ملك المستنصر سنة 427 ه أصبح الجند طائفتين...</td>\n",
              "      <td>عندما تولى المستنصر الحكم أصبح الجند طائفتين، ...</td>\n",
              "      <td>385</td>\n",
              "    </tr>\n",
              "    <tr>\n",
              "      <th>41</th>\n",
              "      <td>أما بخصوص التنظيم والممارسات الإدارية المحلية ...</td>\n",
              "      <td>جعل الإمبراطور أغسطس مصر أشبه بضيعة خاصة به حت...</td>\n",
              "      <td>301</td>\n",
              "    </tr>\n",
              "    <tr>\n",
              "      <th>152</th>\n",
              "      <td>ولم تقتصر مقومات بورسعيد كمدينة عالمية منذ نشأ...</td>\n",
              "      <td>امتدت بورسعيد لكي تشمل الطابع الثقافي للمدينة،...</td>\n",
              "      <td>356</td>\n",
              "    </tr>\n",
              "    <tr>\n",
              "      <th>97</th>\n",
              "      <td>ليس هناك اتفاق بين الباحثين عن مبدأ قيام هذه ا...</td>\n",
              "      <td>اختلف الباحثون حول بداية قيام هذه المملكة, لكن...</td>\n",
              "      <td>293</td>\n",
              "    </tr>\n",
              "    <tr>\n",
              "      <th>123</th>\n",
              "      <td>وفي شهر أغسطس عام 1939 م قدمت وزارة محمد محمود...</td>\n",
              "      <td>وزارة محمد باشا قدمت استقالتها للملك فاروق، وك...</td>\n",
              "      <td>383</td>\n",
              "    </tr>\n",
              "    <tr>\n",
              "      <th>103</th>\n",
              "      <td>قامت مصر بمنع السفن الاسرائيلية من أستخدام قنا...</td>\n",
              "      <td>منعت مصر اسرائيل من الملاحة في القناة وتصاعدت ...</td>\n",
              "      <td>384</td>\n",
              "    </tr>\n",
              "    <tr>\n",
              "      <th>83</th>\n",
              "      <td>عشية انهيار السلطنة العثمانية ، كانت الثورة ال...</td>\n",
              "      <td>بعد طرد الأتراك، أظهرت الثورة الرغبة بالتخلص م...</td>\n",
              "      <td>330</td>\n",
              "    </tr>\n",
              "    <tr>\n",
              "      <th>8</th>\n",
              "      <td>وكان للبطل محمد علي فهمي بعض العمليات الهامة ق...</td>\n",
              "      <td>كان للبطل محمد علي فهمي بعض العمليات المهمة ال...</td>\n",
              "      <td>374</td>\n",
              "    </tr>\n",
              "    <tr>\n",
              "      <th>17</th>\n",
              "      <td>لم تكن تلك هي المرة الأولى التي تتعرض فيها صقل...</td>\n",
              "      <td>منذ فجر التاريخ وهى تداعب أنظار الغزاة فهى الج...</td>\n",
              "      <td>349</td>\n",
              "    </tr>\n",
              "    <tr>\n",
              "      <th>29</th>\n",
              "      <td>وكانت السياسة التركية مترددة غير مستقرة ، ترقب...</td>\n",
              "      <td>كانت سياسة تركيا هشة تراقب مصر ثم تصدر القرار ...</td>\n",
              "      <td>303</td>\n",
              "    </tr>\n",
              "  </tbody>\n",
              "</table>\n",
              "</div>\n",
              "      <button class=\"colab-df-convert\" onclick=\"convertToInteractive('df-8309ee3a-cab0-4e3e-bd4d-c18fed103552')\"\n",
              "              title=\"Convert this dataframe to an interactive table.\"\n",
              "              style=\"display:none;\">\n",
              "        \n",
              "  <svg xmlns=\"http://www.w3.org/2000/svg\" height=\"24px\"viewBox=\"0 0 24 24\"\n",
              "       width=\"24px\">\n",
              "    <path d=\"M0 0h24v24H0V0z\" fill=\"none\"/>\n",
              "    <path d=\"M18.56 5.44l.94 2.06.94-2.06 2.06-.94-2.06-.94-.94-2.06-.94 2.06-2.06.94zm-11 1L8.5 8.5l.94-2.06 2.06-.94-2.06-.94L8.5 2.5l-.94 2.06-2.06.94zm10 10l.94 2.06.94-2.06 2.06-.94-2.06-.94-.94-2.06-.94 2.06-2.06.94z\"/><path d=\"M17.41 7.96l-1.37-1.37c-.4-.4-.92-.59-1.43-.59-.52 0-1.04.2-1.43.59L10.3 9.45l-7.72 7.72c-.78.78-.78 2.05 0 2.83L4 21.41c.39.39.9.59 1.41.59.51 0 1.02-.2 1.41-.59l7.78-7.78 2.81-2.81c.8-.78.8-2.07 0-2.86zM5.41 20L4 18.59l7.72-7.72 1.47 1.35L5.41 20z\"/>\n",
              "  </svg>\n",
              "      </button>\n",
              "      \n",
              "  <style>\n",
              "    .colab-df-container {\n",
              "      display:flex;\n",
              "      flex-wrap:wrap;\n",
              "      gap: 12px;\n",
              "    }\n",
              "\n",
              "    .colab-df-convert {\n",
              "      background-color: #E8F0FE;\n",
              "      border: none;\n",
              "      border-radius: 50%;\n",
              "      cursor: pointer;\n",
              "      display: none;\n",
              "      fill: #1967D2;\n",
              "      height: 32px;\n",
              "      padding: 0 0 0 0;\n",
              "      width: 32px;\n",
              "    }\n",
              "\n",
              "    .colab-df-convert:hover {\n",
              "      background-color: #E2EBFA;\n",
              "      box-shadow: 0px 1px 2px rgba(60, 64, 67, 0.3), 0px 1px 3px 1px rgba(60, 64, 67, 0.15);\n",
              "      fill: #174EA6;\n",
              "    }\n",
              "\n",
              "    [theme=dark] .colab-df-convert {\n",
              "      background-color: #3B4455;\n",
              "      fill: #D2E3FC;\n",
              "    }\n",
              "\n",
              "    [theme=dark] .colab-df-convert:hover {\n",
              "      background-color: #434B5C;\n",
              "      box-shadow: 0px 1px 3px 1px rgba(0, 0, 0, 0.15);\n",
              "      filter: drop-shadow(0px 1px 2px rgba(0, 0, 0, 0.3));\n",
              "      fill: #FFFFFF;\n",
              "    }\n",
              "  </style>\n",
              "\n",
              "      <script>\n",
              "        const buttonEl =\n",
              "          document.querySelector('#df-8309ee3a-cab0-4e3e-bd4d-c18fed103552 button.colab-df-convert');\n",
              "        buttonEl.style.display =\n",
              "          google.colab.kernel.accessAllowed ? 'block' : 'none';\n",
              "\n",
              "        async function convertToInteractive(key) {\n",
              "          const element = document.querySelector('#df-8309ee3a-cab0-4e3e-bd4d-c18fed103552');\n",
              "          const dataTable =\n",
              "            await google.colab.kernel.invokeFunction('convertToInteractive',\n",
              "                                                     [key], {});\n",
              "          if (!dataTable) return;\n",
              "\n",
              "          const docLinkHtml = 'Like what you see? Visit the ' +\n",
              "            '<a target=\"_blank\" href=https://colab.research.google.com/notebooks/data_table.ipynb>data table notebook</a>'\n",
              "            + ' to learn more about interactive tables.';\n",
              "          element.innerHTML = '';\n",
              "          dataTable['output_type'] = 'display_data';\n",
              "          await google.colab.output.renderOutput(dataTable, element);\n",
              "          const docLink = document.createElement('div');\n",
              "          docLink.innerHTML = docLinkHtml;\n",
              "          element.appendChild(docLink);\n",
              "        }\n",
              "      </script>\n",
              "    </div>\n",
              "  </div>\n",
              "  "
            ]
          },
          "metadata": {},
          "execution_count": 6
        }
      ],
      "source": [
        "reviews['tokens_paragraph']= reviews['paragraph'].str.split().map(lambda token: len(token))\n",
        "reviews.sample(10)"
      ]
    },
    {
      "cell_type": "markdown",
      "metadata": {
        "id": "HSeC6N5PBo0-"
      },
      "source": [
        "visualize tokens paragraph as histogram"
      ]
    },
    {
      "cell_type": "code",
      "execution_count": null,
      "metadata": {
        "id": "25ot0RdTB8ob"
      },
      "outputs": [],
      "source": [
        "import matplotlib.pyplot as plt # make visualization\n",
        "import seaborn as sns # make visualization"
      ]
    },
    {
      "cell_type": "code",
      "execution_count": null,
      "metadata": {
        "colab": {
          "base_uri": "https://localhost:8080/",
          "height": 542
        },
        "id": "51AwRuQABnn3",
        "outputId": "adb75525-9334-401a-994e-0ffee9ef6889"
      },
      "outputs": [
        {
          "output_type": "display_data",
          "data": {
            "text/plain": [
              "<Figure size 1000x600 with 1 Axes>"
            ],
            "image/png": "[encoded data removed]"
          },
          "metadata": {}
        }
      ],
      "source": [
        "plt.figure(figsize=(10, 6))\n",
        "\n",
        "reviews['tokens_paragraph'].plot(bins=35,\n",
        "                            kind='hist',\n",
        "                            color='red',\n",
        "                            label='paragraph',\n",
        "                            alpha=0.6)\n",
        "\n",
        "plt.legend(loc='upper right')\n",
        "plt.xlabel(\"Numbers of tokens\")\n",
        "plt.ylabel(\"Numbers of texts\")\n",
        "plt.show()"
      ]
    },
    {
      "cell_type": "markdown",
      "metadata": {
        "id": "scYcxNKYCHJ7"
      },
      "source": [
        "max tokens"
      ]
    },
    {
      "cell_type": "code",
      "execution_count": null,
      "metadata": {
        "colab": {
          "base_uri": "https://localhost:8080/"
        },
        "id": "8f4zN33-CKhi",
        "outputId": "24b4709f-13f1-4c38-d0ee-25c1fbce355a"
      },
      "outputs": [
        {
          "output_type": "execute_result",
          "data": {
            "text/plain": [
              "400"
            ]
          },
          "metadata": {},
          "execution_count": 9
        }
      ],
      "source": [
        "max_tokens= reviews['tokens_paragraph'].max()\n",
        "max_tokens"
      ]
    },
    {
      "cell_type": "markdown",
      "metadata": {
        "id": "aQmazBV1CMmp"
      },
      "source": [
        "show max tokens"
      ]
    },
    {
      "cell_type": "code",
      "execution_count": null,
      "metadata": {
        "colab": {
          "base_uri": "https://localhost:8080/"
        },
        "id": "3JjXgsuUCPlT",
        "outputId": "7bc11e14-7319-4ff9-b4b8-36249c6655e4"
      },
      "outputs": [
        {
          "output_type": "execute_result",
          "data": {
            "text/plain": [
              "116    وبعد أن قامت حكومة الوفد بإلغاء معاهدة عام 193...\n",
              "Name: paragraph, dtype: object"
            ]
          },
          "metadata": {},
          "execution_count": 10
        }
      ],
      "source": [
        "reviews[reviews['tokens_paragraph'] == max_tokens]['paragraph']"
      ]
    },
    {
      "cell_type": "markdown",
      "metadata": {
        "id": "yycJn9KNCSLb"
      },
      "source": [
        "# Step 3: Translate pharagraph & Summary\n"
      ]
    },
    {
      "cell_type": "code",
      "execution_count": null,
      "metadata": {
        "id": "39txgWvpt7yy",
        "colab": {
          "base_uri": "https://localhost:8080/"
        },
        "outputId": "5d422ffe-7c86-434c-ebac-946fe4030f17"
      },
      "outputs": [
        {
          "output_type": "stream",
          "name": "stdout",
          "text": [
            "Collecting mtranslate\n",
            "  Downloading mtranslate-1.8.tar.gz (2.4 kB)\n",
            "  Preparing metadata (setup.py) ... \u001b[?25l\u001b[?25hdone\n",
            "Building wheels for collected packages: mtranslate\n",
            "  Building wheel for mtranslate (setup.py) ... \u001b[?25l\u001b[?25hdone\n",
            "  Created wheel for mtranslate: filename=mtranslate-1.8-py3-none-any.whl size=3671 sha256=39761f235d49e59b7393d4234df7a166ab1b6fc5c2984a476b033e14a1c65294\n",
            "  Stored in directory: /root/.cache/pip/wheels/c2/04/15/d7654c2c4a9a52e09922967593f3278fed66059be65ca671ea\n",
            "Successfully built mtranslate\n",
            "Installing collected packages: mtranslate\n",
            "Successfully installed mtranslate-1.8\n"
          ]
        }
      ],
      "source": [
        "!pip install mtranslate"
      ]
    },
    {
      "cell_type": "code",
      "execution_count": null,
      "metadata": {
        "id": "w5nBz1Nft3R_"
      },
      "outputs": [],
      "source": [
        "# Use Microsoft edge\n",
        "from mtranslate import translate\n",
        "\n",
        "# Arabic-to-English Translation\n",
        "def translate_ar_to_en(text):\n",
        "    translated_text = translate(text, \"en\", \"ar\")\n",
        "    return translated_text\n",
        "\n",
        "# English-to-Arabic Translation\n",
        "def translate_en_to_ar(text):\n",
        "    translated_text = translate(text, \"ar\", \"en\")\n",
        "    return translated_text"
      ]
    },
    {
      "cell_type": "code",
      "execution_count": null,
      "metadata": {
        "colab": {
          "base_uri": "https://localhost:8080/"
        },
        "id": "uIALYXwiwNMe",
        "outputId": "63fadbdd-de00-4922-8478-230e33047c8e"
      },
      "outputs": [
        {
          "output_type": "stream",
          "name": "stdout",
          "text": [
            "Hello, I am Ahmed Khattab, a student at the Russian University in Egypt\n"
          ]
        }
      ],
      "source": [
        "x = translate_ar_to_en('مرحبا بكم انا احمد خطاب طالب في الجامعه الروسيه بمصر')\n",
        "print(x)"
      ]
    },
    {
      "cell_type": "code",
      "execution_count": null,
      "metadata": {
        "colab": {
          "base_uri": "https://localhost:8080/"
        },
        "id": "XFqHNwdzpAEY",
        "outputId": "fedb3299-605c-4f4b-c21e-afe71900f5bb"
      },
      "outputs": [
        {
          "output_type": "stream",
          "name": "stdout",
          "text": [
            "مرحباً ، أنا أحمد خطاب طالب في الجامعة الروسية في مصر\n"
          ]
        }
      ],
      "source": [
        "y = translate_en_to_ar(x)\n",
        "print(y)"
      ]
    },
    {
      "cell_type": "markdown",
      "metadata": {
        "id": "uxS_TuCvv3gF"
      },
      "source": [
        "# Translate the input_text to English"
      ]
    },
    {
      "cell_type": "code",
      "execution_count": null,
      "metadata": {
        "colab": {
          "base_uri": "https://localhost:8080/"
        },
        "id": "VwsDAvQsVfuH",
        "outputId": "52f13664-e89d-4030-c8fc-7e190fc955d5"
      },
      "outputs": [
        {
          "output_type": "stream",
          "name": "stdout",
          "text": [
            "0 - 1 - 2 - 3 - 4 - 5 - 6 - 7 - 8 - 9 - 10 - 11 - 12 - 13 - 14 - 15 - 16 - 17 - 18 - 19 - 20 - 21 - 22 - 23 - 24 - 25 - 26 - 27 - 28 - 29 - 30 - 31 - 32 - 33 - 34 - 35 - 36 - 37 - 38 - 39 - 40 - 41 - 42 - 43 - 44 - 45 - 46 - 47 - 48 - 49 - 50 - 51 - 52 - 53 - 54 - 55 - 56 - 57 - 58 - 59 - 60 - 61 - 62 - 63 - 64 - 65 - 66 - 67 - 68 - 69 - 70 - 71 - 72 - 73 - 74 - 75 - 76 - 77 - 78 - 79 - 80 - 81 - 82 - 83 - 84 - 85 - 86 - 87 - 88 - 89 - 90 - 91 - 92 - 93 - 94 - 95 - 96 - 97 - 98 - 99 - 100 - 101 - 102 - 103 - 104 - 105 - 106 - 107 - 108 - 109 - 110 - 111 - 112 - 113 - 114 - 115 - 116 - 117 - 118 - 119 - 120 - 121 - 122 - 123 - 124 - 125 - 126 - 127 - 128 - 129 - 130 - 131 - 132 - 133 - 134 - 135 - 136 - 137 - 138 - 139 - 140 - 141 - 142 - 143 - 144 - 145 - 146 - 147 - 148 - 149 - 150 - 151 - 152 - 153 - Done\n"
          ]
        }
      ],
      "source": [
        "arabic_translation_list = []\n",
        "i = 0\n",
        "for text in reviews['paragraph']:\n",
        "    english_text = text\n",
        "    arabic_translation = translate_ar_to_en(english_text)\n",
        "    arabic_translation_list.append(arabic_translation)\n",
        "    print(i,end=' - ')\n",
        "    i+=1\n",
        "\n",
        "reviews['translated_input'] = arabic_translation_list\n",
        "print('Done')"
      ]
    },
    {
      "cell_type": "markdown",
      "metadata": {
        "id": "9yziZeSqv8tB"
      },
      "source": [
        "# Translate the target_text to English"
      ]
    },
    {
      "cell_type": "code",
      "execution_count": null,
      "metadata": {
        "colab": {
          "base_uri": "https://localhost:8080/"
        },
        "id": "wHX95QXavTYW",
        "outputId": "33a46685-11d8-4381-dfd3-b955ab65e487"
      },
      "outputs": [
        {
          "output_type": "stream",
          "name": "stdout",
          "text": [
            "0 - 1 - 2 - 3 - 4 - 5 - 6 - 7 - 8 - 9 - 10 - 11 - 12 - 13 - 14 - 15 - 16 - 17 - 18 - 19 - 20 - 21 - 22 - 23 - 24 - 25 - 26 - 27 - 28 - 29 - 30 - 31 - 32 - 33 - 34 - 35 - 36 - 37 - 38 - 39 - 40 - 41 - 42 - 43 - 44 - 45 - 46 - 47 - 48 - 49 - 50 - 51 - 52 - 53 - 54 - 55 - 56 - 57 - 58 - 59 - 60 - 61 - 62 - 63 - 64 - 65 - 66 - 67 - 68 - 69 - 70 - 71 - 72 - 73 - 74 - 75 - 76 - 77 - 78 - 79 - 80 - 81 - 82 - 83 - 84 - 85 - 86 - 87 - 88 - 89 - 90 - 91 - 92 - 93 - 94 - 95 - 96 - 97 - 98 - 99 - 100 - 101 - 102 - 103 - 104 - 105 - 106 - 107 - 108 - 109 - 110 - 111 - 112 - 113 - 114 - 115 - 116 - 117 - 118 - 119 - 120 - 121 - 122 - 123 - 124 - 125 - 126 - 127 - 128 - 129 - 130 - 131 - 132 - 133 - 134 - 135 - 136 - 137 - 138 - 139 - 140 - 141 - 142 - 143 - 144 - 145 - 146 - 147 - 148 - 149 - 150 - 151 - 152 - 153 - Done\n"
          ]
        }
      ],
      "source": [
        "arabic_translation_list = []\n",
        "i = 0\n",
        "for text in reviews['summary']:\n",
        "    english_text = text\n",
        "    arabic_translation = translate_ar_to_en(english_text)\n",
        "    arabic_translation_list.append(arabic_translation)\n",
        "    print(i,end=' - ')\n",
        "    i+=1\n",
        "\n",
        "reviews['translated_summary'] = arabic_translation_list\n",
        "print('Done')"
      ]
    },
    {
      "cell_type": "code",
      "source": [
        "reviews = pd.read_csv('translated_dataset.csv')"
      ],
      "metadata": {
        "id": "HWF9xD_rL8YG"
      },
      "execution_count": null,
      "outputs": []
    },
    {
      "cell_type": "code",
      "execution_count": null,
      "metadata": {
        "colab": {
          "base_uri": "https://localhost:8080/",
          "height": 441
        },
        "id": "xxKIacpiXXl7",
        "outputId": "06fdca61-58fb-4f34-b6b3-f6ac8348034c"
      },
      "outputs": [
        {
          "output_type": "execute_result",
          "data": {
            "text/plain": [
              "   Unnamed: 0                                          paragraph  \\\n",
              "0           0  وتحت عنوان من الكارثة إلى التحدى يبدأ الكاتب ع...   \n",
              "1           1  ولم يعترف دبلوماسيو هاتين الدولتين بالعريضة ال...   \n",
              "2           2  قامت ولاية حلب بعد اعلان الجنرال الفرنسي هنري ...   \n",
              "3           3  دولة مصر العربيه هي ليست اي دوله وليست اي شعب ...   \n",
              "4           4  السوريون يصرون على استقلال بلادهم : و مثلما رف...   \n",
              "\n",
              "                                             summary  tokens_paragraph  \\\n",
              "0  يبدأ الكاتب عرض الكتاب الرابع تحت عنوان من الك...               335   \n",
              "1  دبلوماسيو الدولتين لم يعترفوا بالعريضة التي قا...               277   \n",
              "2  أعلن غورو الانتداب الفرنسي على سوريا لكي يعاقب...               339   \n",
              "3  مصر هي أم البلاد، وقائدة العرب؛ فهي أرض بلاد ا...               282   \n",
              "4  الشعب السوري يصر على استقلال بلدهم من السيطرة ...               259   \n",
              "\n",
              "                                    translated_input  \\\n",
              "0  Under the title From Disaster to Challenge, th...   \n",
              "1  The diplomats of these two countries did not r...   \n",
              "2  The Wilayat of Aleppo was established after th...   \n",
              "3  The Arab state of Egypt is not any country and...   \n",
              "4  The Syrians insist on the independence of thei...   \n",
              "\n",
              "                                  translated_summary  \n",
              "0  The writer begins presenting the fourth book u...  \n",
              "1  The diplomats of the two countries did not rec...  \n",
              "2  Gouraud declared the French mandate over Syria...  \n",
              "3  Egypt is the mother of the country, and the le...  \n",
              "4  The Syrian people insist on the independence o...  "
            ],
            "text/html": [
              "\n",
              "  <div id=\"df-31fa9e26-69f9-4beb-bbf9-4ed85a039562\">\n",
              "    <div class=\"colab-df-container\">\n",
              "      <div>\n",
              "<style scoped>\n",
              "    .dataframe tbody tr th:only-of-type {\n",
              "        vertical-align: middle;\n",
              "    }\n",
              "\n",
              "    .dataframe tbody tr th {\n",
              "        vertical-align: top;\n",
              "    }\n",
              "\n",
              "    .dataframe thead th {\n",
              "        text-align: right;\n",
              "    }\n",
              "</style>\n",
              "<table border=\"1\" class=\"dataframe\">\n",
              "  <thead>\n",
              "    <tr style=\"text-align: right;\">\n",
              "      <th></th>\n",
              "      <th>Unnamed: 0</th>\n",
              "      <th>paragraph</th>\n",
              "      <th>summary</th>\n",
              "      <th>tokens_paragraph</th>\n",
              "      <th>translated_input</th>\n",
              "      <th>translated_summary</th>\n",
              "    </tr>\n",
              "  </thead>\n",
              "  <tbody>\n",
              "    <tr>\n",
              "      <th>0</th>\n",
              "      <td>0</td>\n",
              "      <td>وتحت عنوان من الكارثة إلى التحدى يبدأ الكاتب ع...</td>\n",
              "      <td>يبدأ الكاتب عرض الكتاب الرابع تحت عنوان من الك...</td>\n",
              "      <td>335</td>\n",
              "      <td>Under the title From Disaster to Challenge, th...</td>\n",
              "      <td>The writer begins presenting the fourth book u...</td>\n",
              "    </tr>\n",
              "    <tr>\n",
              "      <th>1</th>\n",
              "      <td>1</td>\n",
              "      <td>ولم يعترف دبلوماسيو هاتين الدولتين بالعريضة ال...</td>\n",
              "      <td>دبلوماسيو الدولتين لم يعترفوا بالعريضة التي قا...</td>\n",
              "      <td>277</td>\n",
              "      <td>The diplomats of these two countries did not r...</td>\n",
              "      <td>The diplomats of the two countries did not rec...</td>\n",
              "    </tr>\n",
              "    <tr>\n",
              "      <th>2</th>\n",
              "      <td>2</td>\n",
              "      <td>قامت ولاية حلب بعد اعلان الجنرال الفرنسي هنري ...</td>\n",
              "      <td>أعلن غورو الانتداب الفرنسي على سوريا لكي يعاقب...</td>\n",
              "      <td>339</td>\n",
              "      <td>The Wilayat of Aleppo was established after th...</td>\n",
              "      <td>Gouraud declared the French mandate over Syria...</td>\n",
              "    </tr>\n",
              "    <tr>\n",
              "      <th>3</th>\n",
              "      <td>3</td>\n",
              "      <td>دولة مصر العربيه هي ليست اي دوله وليست اي شعب ...</td>\n",
              "      <td>مصر هي أم البلاد، وقائدة العرب؛ فهي أرض بلاد ا...</td>\n",
              "      <td>282</td>\n",
              "      <td>The Arab state of Egypt is not any country and...</td>\n",
              "      <td>Egypt is the mother of the country, and the le...</td>\n",
              "    </tr>\n",
              "    <tr>\n",
              "      <th>4</th>\n",
              "      <td>4</td>\n",
              "      <td>السوريون يصرون على استقلال بلادهم : و مثلما رف...</td>\n",
              "      <td>الشعب السوري يصر على استقلال بلدهم من السيطرة ...</td>\n",
              "      <td>259</td>\n",
              "      <td>The Syrians insist on the independence of thei...</td>\n",
              "      <td>The Syrian people insist on the independence o...</td>\n",
              "    </tr>\n",
              "  </tbody>\n",
              "</table>\n",
              "</div>\n",
              "      <button class=\"colab-df-convert\" onclick=\"convertToInteractive('df-31fa9e26-69f9-4beb-bbf9-4ed85a039562')\"\n",
              "              title=\"Convert this dataframe to an interactive table.\"\n",
              "              style=\"display:none;\">\n",
              "        \n",
              "  <svg xmlns=\"http://www.w3.org/2000/svg\" height=\"24px\"viewBox=\"0 0 24 24\"\n",
              "       width=\"24px\">\n",
              "    <path d=\"M0 0h24v24H0V0z\" fill=\"none\"/>\n",
              "    <path d=\"M18.56 5.44l.94 2.06.94-2.06 2.06-.94-2.06-.94-.94-2.06-.94 2.06-2.06.94zm-11 1L8.5 8.5l.94-2.06 2.06-.94-2.06-.94L8.5 2.5l-.94 2.06-2.06.94zm10 10l.94 2.06.94-2.06 2.06-.94-2.06-.94-.94-2.06-.94 2.06-2.06.94z\"/><path d=\"M17.41 7.96l-1.37-1.37c-.4-.4-.92-.59-1.43-.59-.52 0-1.04.2-1.43.59L10.3 9.45l-7.72 7.72c-.78.78-.78 2.05 0 2.83L4 21.41c.39.39.9.59 1.41.59.51 0 1.02-.2 1.41-.59l7.78-7.78 2.81-2.81c.8-.78.8-2.07 0-2.86zM5.41 20L4 18.59l7.72-7.72 1.47 1.35L5.41 20z\"/>\n",
              "  </svg>\n",
              "      </button>\n",
              "      \n",
              "  <style>\n",
              "    .colab-df-container {\n",
              "      display:flex;\n",
              "      flex-wrap:wrap;\n",
              "      gap: 12px;\n",
              "    }\n",
              "\n",
              "    .colab-df-convert {\n",
              "      background-color: #E8F0FE;\n",
              "      border: none;\n",
              "      border-radius: 50%;\n",
              "      cursor: pointer;\n",
              "      display: none;\n",
              "      fill: #1967D2;\n",
              "      height: 32px;\n",
              "      padding: 0 0 0 0;\n",
              "      width: 32px;\n",
              "    }\n",
              "\n",
              "    .colab-df-convert:hover {\n",
              "      background-color: #E2EBFA;\n",
              "      box-shadow: 0px 1px 2px rgba(60, 64, 67, 0.3), 0px 1px 3px 1px rgba(60, 64, 67, 0.15);\n",
              "      fill: #174EA6;\n",
              "    }\n",
              "\n",
              "    [theme=dark] .colab-df-convert {\n",
              "      background-color: #3B4455;\n",
              "      fill: #D2E3FC;\n",
              "    }\n",
              "\n",
              "    [theme=dark] .colab-df-convert:hover {\n",
              "      background-color: #434B5C;\n",
              "      box-shadow: 0px 1px 3px 1px rgba(0, 0, 0, 0.15);\n",
              "      filter: drop-shadow(0px 1px 2px rgba(0, 0, 0, 0.3));\n",
              "      fill: #FFFFFF;\n",
              "    }\n",
              "  </style>\n",
              "\n",
              "      <script>\n",
              "        const buttonEl =\n",
              "          document.querySelector('#df-31fa9e26-69f9-4beb-bbf9-4ed85a039562 button.colab-df-convert');\n",
              "        buttonEl.style.display =\n",
              "          google.colab.kernel.accessAllowed ? 'block' : 'none';\n",
              "\n",
              "        async function convertToInteractive(key) {\n",
              "          const element = document.querySelector('#df-31fa9e26-69f9-4beb-bbf9-4ed85a039562');\n",
              "          const dataTable =\n",
              "            await google.colab.kernel.invokeFunction('convertToInteractive',\n",
              "                                                     [key], {});\n",
              "          if (!dataTable) return;\n",
              "\n",
              "          const docLinkHtml = 'Like what you see? Visit the ' +\n",
              "            '<a target=\"_blank\" href=https://colab.research.google.com/notebooks/data_table.ipynb>data table notebook</a>'\n",
              "            + ' to learn more about interactive tables.';\n",
              "          element.innerHTML = '';\n",
              "          dataTable['output_type'] = 'display_data';\n",
              "          await google.colab.output.renderOutput(dataTable, element);\n",
              "          const docLink = document.createElement('div');\n",
              "          docLink.innerHTML = docLinkHtml;\n",
              "          element.appendChild(docLink);\n",
              "        }\n",
              "      </script>\n",
              "    </div>\n",
              "  </div>\n",
              "  "
            ]
          },
          "metadata": {},
          "execution_count": 14
        }
      ],
      "source": [
        "reviews.head()"
      ]
    },
    {
      "cell_type": "markdown",
      "metadata": {
        "id": "OOqk2XFHC20I"
      },
      "source": [
        "# Step 4: Load the Pretrained Transformer Model (mT5) on GPU"
      ]
    },
    {
      "cell_type": "code",
      "execution_count": null,
      "metadata": {
        "id": "CDiE1rLCwBeI",
        "colab": {
          "base_uri": "https://localhost:8080/"
        },
        "outputId": "8b46228f-12d6-4c1a-98c6-68a9724be41e"
      },
      "outputs": [
        {
          "output_type": "stream",
          "name": "stdout",
          "text": [
            "Collecting transformers[torch]\n",
            "  Downloading transformers-4.30.2-py3-none-any.whl (7.2 MB)\n",
            "\u001b[2K     \u001b[90m━━━━━━━━━━━━━━━━━━━━━━━━━━━━━━━━━━━━━━━━\u001b[0m \u001b[32m7.2/7.2 MB\u001b[0m \u001b[31m46.7 MB/s\u001b[0m eta \u001b[36m0:00:00\u001b[0m\n",
            "\u001b[?25hRequirement already satisfied: filelock in /usr/local/lib/python3.10/dist-packages (from transformers[torch]) (3.12.2)\n",
            "Collecting huggingface-hub<1.0,>=0.14.1 (from transformers[torch])\n",
            "  Downloading huggingface_hub-0.15.1-py3-none-any.whl (236 kB)\n",
            "\u001b[2K     \u001b[90m━━━━━━━━━━━━━━━━━━━━━━━━━━━━━━━━━━━━━━\u001b[0m \u001b[32m236.8/236.8 kB\u001b[0m \u001b[31m35.3 MB/s\u001b[0m eta \u001b[36m0:00:00\u001b[0m\n",
            "\u001b[?25hRequirement already satisfied: numpy>=1.17 in /usr/local/lib/python3.10/dist-packages (from transformers[torch]) (1.22.4)\n",
            "Requirement already satisfied: packaging>=20.0 in /usr/local/lib/python3.10/dist-packages (from transformers[torch]) (23.1)\n",
            "Requirement already satisfied: pyyaml>=5.1 in /usr/local/lib/python3.10/dist-packages (from transformers[torch]) (6.0)\n",
            "Requirement already satisfied: regex!=2019.12.17 in /usr/local/lib/python3.10/dist-packages (from transformers[torch]) (2022.10.31)\n",
            "Requirement already satisfied: requests in /usr/local/lib/python3.10/dist-packages (from transformers[torch]) (2.27.1)\n",
            "Collecting tokenizers!=0.11.3,<0.14,>=0.11.1 (from transformers[torch])\n",
            "  Downloading tokenizers-0.13.3-cp310-cp310-manylinux_2_17_x86_64.manylinux2014_x86_64.whl (7.8 MB)\n",
            "\u001b[2K     \u001b[90m━━━━━━━━━━━━━━━━━━━━━━━━━━━━━━━━━━━━━━━━\u001b[0m \u001b[32m7.8/7.8 MB\u001b[0m \u001b[31m106.5 MB/s\u001b[0m eta \u001b[36m0:00:00\u001b[0m\n",
            "\u001b[?25hCollecting safetensors>=0.3.1 (from transformers[torch])\n",
            "  Downloading safetensors-0.3.1-cp310-cp310-manylinux_2_17_x86_64.manylinux2014_x86_64.whl (1.3 MB)\n",
            "\u001b[2K     \u001b[90m━━━━━━━━━━━━━━━━━━━━━━━━━━━━━━━━━━━━━━━━\u001b[0m \u001b[32m1.3/1.3 MB\u001b[0m \u001b[31m80.7 MB/s\u001b[0m eta \u001b[36m0:00:00\u001b[0m\n",
            "\u001b[?25hRequirement already satisfied: tqdm>=4.27 in /usr/local/lib/python3.10/dist-packages (from transformers[torch]) (4.65.0)\n",
            "Requirement already satisfied: torch!=1.12.0,>=1.9 in /usr/local/lib/python3.10/dist-packages (from transformers[torch]) (2.0.1+cu118)\n",
            "Collecting accelerate>=0.20.2 (from transformers[torch])\n",
            "  Downloading accelerate-0.20.3-py3-none-any.whl (227 kB)\n",
            "\u001b[2K     \u001b[90m━━━━━━━━━━━━━━━━━━━━━━━━━━━━━━━━━━━━━━\u001b[0m \u001b[32m227.6/227.6 kB\u001b[0m \u001b[31m33.2 MB/s\u001b[0m eta \u001b[36m0:00:00\u001b[0m\n",
            "\u001b[?25hRequirement already satisfied: psutil in /usr/local/lib/python3.10/dist-packages (from accelerate>=0.20.2->transformers[torch]) (5.9.5)\n",
            "Requirement already satisfied: fsspec in /usr/local/lib/python3.10/dist-packages (from huggingface-hub<1.0,>=0.14.1->transformers[torch]) (2023.6.0)\n",
            "Requirement already satisfied: typing-extensions>=3.7.4.3 in /usr/local/lib/python3.10/dist-packages (from huggingface-hub<1.0,>=0.14.1->transformers[torch]) (4.6.3)\n",
            "Requirement already satisfied: sympy in /usr/local/lib/python3.10/dist-packages (from torch!=1.12.0,>=1.9->transformers[torch]) (1.11.1)\n",
            "Requirement already satisfied: networkx in /usr/local/lib/python3.10/dist-packages (from torch!=1.12.0,>=1.9->transformers[torch]) (3.1)\n",
            "Requirement already satisfied: jinja2 in /usr/local/lib/python3.10/dist-packages (from torch!=1.12.0,>=1.9->transformers[torch]) (3.1.2)\n",
            "Requirement already satisfied: triton==2.0.0 in /usr/local/lib/python3.10/dist-packages (from torch!=1.12.0,>=1.9->transformers[torch]) (2.0.0)\n",
            "Requirement already satisfied: cmake in /usr/local/lib/python3.10/dist-packages (from triton==2.0.0->torch!=1.12.0,>=1.9->transformers[torch]) (3.25.2)\n",
            "Requirement already satisfied: lit in /usr/local/lib/python3.10/dist-packages (from triton==2.0.0->torch!=1.12.0,>=1.9->transformers[torch]) (16.0.6)\n",
            "Requirement already satisfied: urllib3<1.27,>=1.21.1 in /usr/local/lib/python3.10/dist-packages (from requests->transformers[torch]) (1.26.16)\n",
            "Requirement already satisfied: certifi>=2017.4.17 in /usr/local/lib/python3.10/dist-packages (from requests->transformers[torch]) (2023.5.7)\n",
            "Requirement already satisfied: charset-normalizer~=2.0.0 in /usr/local/lib/python3.10/dist-packages (from requests->transformers[torch]) (2.0.12)\n",
            "Requirement already satisfied: idna<4,>=2.5 in /usr/local/lib/python3.10/dist-packages (from requests->transformers[torch]) (3.4)\n",
            "Requirement already satisfied: MarkupSafe>=2.0 in /usr/local/lib/python3.10/dist-packages (from jinja2->torch!=1.12.0,>=1.9->transformers[torch]) (2.1.3)\n",
            "Requirement already satisfied: mpmath>=0.19 in /usr/local/lib/python3.10/dist-packages (from sympy->torch!=1.12.0,>=1.9->transformers[torch]) (1.3.0)\n",
            "Installing collected packages: tokenizers, safetensors, huggingface-hub, transformers, accelerate\n",
            "Successfully installed accelerate-0.20.3 huggingface-hub-0.15.1 safetensors-0.3.1 tokenizers-0.13.3 transformers-4.30.2\n"
          ]
        }
      ],
      "source": [
        "!pip install transformers[torch]"
      ]
    },
    {
      "cell_type": "code",
      "execution_count": null,
      "metadata": {
        "id": "zgL29E7KG6aR",
        "colab": {
          "base_uri": "https://localhost:8080/"
        },
        "outputId": "094895dc-2714-463f-ca27-adb883202809"
      },
      "outputs": [
        {
          "output_type": "stream",
          "name": "stdout",
          "text": [
            "Collecting sentencepiece\n",
            "  Downloading sentencepiece-0.1.99-cp310-cp310-manylinux_2_17_x86_64.manylinux2014_x86_64.whl (1.3 MB)\n",
            "\u001b[?25l     \u001b[90m━━━━━━━━━━━━━━━━━━━━━━━━━━━━━━━━━━━━━━━━\u001b[0m \u001b[32m0.0/1.3 MB\u001b[0m \u001b[31m?\u001b[0m eta \u001b[36m-:--:--\u001b[0m\r\u001b[2K     \u001b[91m━━━━━━━━━━━━━━━━━━━━━━━━━━━━━━━━━━━━━━━\u001b[0m\u001b[91m╸\u001b[0m \u001b[32m1.3/1.3 MB\u001b[0m \u001b[31m42.7 MB/s\u001b[0m eta \u001b[36m0:00:01\u001b[0m\r\u001b[2K     \u001b[90m━━━━━━━━━━━━━━━━━━━━━━━━━━━━━━━━━━━━━━━━\u001b[0m \u001b[32m1.3/1.3 MB\u001b[0m \u001b[31m32.1 MB/s\u001b[0m eta \u001b[36m0:00:00\u001b[0m\n",
            "\u001b[?25hInstalling collected packages: sentencepiece\n",
            "Successfully installed sentencepiece-0.1.99\n"
          ]
        }
      ],
      "source": [
        "pip install sentencepiece"
      ]
    },
    {
      "cell_type": "markdown",
      "source": [
        "# Change the names in the data to English names"
      ],
      "metadata": {
        "id": "Bm3KDHWGMitg"
      }
    },
    {
      "cell_type": "code",
      "source": [
        "!pip install faker"
      ],
      "metadata": {
        "colab": {
          "base_uri": "https://localhost:8080/"
        },
        "id": "iH0HJ7KyMh1P",
        "outputId": "064fb91b-d867-40f2-c2fc-5dea393d76f9"
      },
      "execution_count": null,
      "outputs": [
        {
          "output_type": "stream",
          "name": "stdout",
          "text": [
            "Collecting faker\n",
            "  Downloading Faker-18.11.2-py3-none-any.whl (1.7 MB)\n",
            "\u001b[?25l     \u001b[90m━━━━━━━━━━━━━━━━━━━━━━━━━━━━━━━━━━━━━━━━\u001b[0m \u001b[32m0.0/1.7 MB\u001b[0m \u001b[31m?\u001b[0m eta \u001b[36m-:--:--\u001b[0m\r\u001b[2K     \u001b[91m━━━━━━━━━━━━━━━━━━━━━━━━\u001b[0m\u001b[90m╺\u001b[0m\u001b[90m━━━━━━━━━━━━━━━\u001b[0m \u001b[32m1.0/1.7 MB\u001b[0m \u001b[31m35.8 MB/s\u001b[0m eta \u001b[36m0:00:01\u001b[0m\r\u001b[2K     \u001b[91m━━━━━━━━━━━━━━━━━━━━━━━━━━━━━━━━━━━━━━━\u001b[0m\u001b[91m╸\u001b[0m \u001b[32m1.7/1.7 MB\u001b[0m \u001b[31m32.9 MB/s\u001b[0m eta \u001b[36m0:00:01\u001b[0m\r\u001b[2K     \u001b[90m━━━━━━━━━━━━━━━━━━━━━━━━━━━━━━━━━━━━━━━━\u001b[0m \u001b[32m1.7/1.7 MB\u001b[0m \u001b[31m21.1 MB/s\u001b[0m eta \u001b[36m0:00:00\u001b[0m\n",
            "\u001b[?25hRequirement already satisfied: python-dateutil>=2.4 in /usr/local/lib/python3.10/dist-packages (from faker) (2.8.2)\n",
            "Requirement already satisfied: six>=1.5 in /usr/local/lib/python3.10/dist-packages (from python-dateutil>=2.4->faker) (1.16.0)\n",
            "Installing collected packages: faker\n",
            "Successfully installed faker-18.11.2\n"
          ]
        }
      ]
    },
    {
      "cell_type": "code",
      "source": [
        "# Download and install the large English model\n",
        "import spacy\n",
        "spacy.cli.download(\"en_core_web_lg\")"
      ],
      "metadata": {
        "colab": {
          "base_uri": "https://localhost:8080/"
        },
        "id": "mIi2W1weN2CY",
        "outputId": "69754038-988b-478c-90f0-df027b9fefce"
      },
      "execution_count": null,
      "outputs": [
        {
          "output_type": "stream",
          "name": "stdout",
          "text": [
            "\u001b[38;5;2m✔ Download and installation successful\u001b[0m\n",
            "You can now load the package via spacy.load('en_core_web_lg')\n"
          ]
        }
      ]
    },
    {
      "cell_type": "code",
      "source": [
        "import re\n",
        "import spacy\n",
        "from faker import Faker\n",
        "\n",
        "\n",
        "\n",
        "def generate_one_syllable_name(fake):\n",
        "    while True:\n",
        "        name = fake.first_name()\n",
        "        if len(name.split('-')) == 1:  # Check if the name has one syllable\n",
        "            return name\n",
        "\n",
        "\n",
        "def replace_names(sentence):\n",
        "    nlp = spacy.load('en_core_web_lg')\n",
        "    doc = nlp(sentence)\n",
        "    name_replacements = {}\n",
        "    fake = Faker()\n",
        "\n",
        "    for ent in doc.ents:\n",
        "        if ent.label_ in ['PERSON','GPE'] and not any(token.pos_ == 'NUM' for token in ent):\n",
        "            name = ent.text\n",
        "            if name not in name_replacements:\n",
        "                replacement = generate_one_syllable_name(fake)\n",
        "                sentence = re.sub(r'\\b' + re.escape(name) + r'\\b', replacement, sentence)\n",
        "                name_replacements[name] = replacement\n",
        "\n",
        "    return sentence, name_replacements\n",
        "\n",
        "\n",
        "\n"
      ],
      "metadata": {
        "id": "2YHJKqF2N8UJ"
      },
      "execution_count": null,
      "outputs": []
    },
    {
      "cell_type": "code",
      "source": [
        "en_names_dataset = []\n",
        "i=0\n",
        "for _, row in reviews.iterrows():\n",
        "    target_text = row['translated_summary']\n",
        "    input_text = row['translated_input']\n",
        "\n",
        "\n",
        "    # Replace names in target text\n",
        "    replaced_target_text, replacements_t = replace_names(target_text)\n",
        "\n",
        "    # Replace names in input text\n",
        "    replaced_input_text, replacements_i = replace_names(input_text)\n",
        "    i+=1\n",
        "    print(i,end=' - ')\n",
        "\n",
        "    # Save modified data\n",
        "    en_names_dataset.append({\n",
        "        'translated_summary': replaced_target_text,\n",
        "        'translated_input': replaced_input_text,\n",
        "        'input_english_names': replacements_i,\n",
        "        'target_english_names': replacements_t,\n",
        "\n",
        "    })\n",
        "\n",
        "# Create a new DataFrame with modified data\n",
        "en_names_dataset = pd.DataFrame(en_names_dataset)\n",
        "\n",
        "# Save the modified DataFrame to a new CSV file\n",
        "en_names_dataset.to_csv('en_names_dataset.csv', index=False)\n"
      ],
      "metadata": {
        "colab": {
          "base_uri": "https://localhost:8080/"
        },
        "id": "8AwDLRldOJGM",
        "outputId": "523a7d63-c875-485b-9a3c-4028722a16f5"
      },
      "execution_count": null,
      "outputs": [
        {
          "output_type": "stream",
          "name": "stdout",
          "text": [
            "1 - 2 - 3 - 4 - 5 - 6 - 7 - 8 - 9 - 10 - 11 - 12 - 13 - 14 - 15 - 16 - 17 - 18 - 19 - 20 - 21 - 22 - 23 - 24 - 25 - 26 - 27 - 28 - 29 - 30 - 31 - 32 - 33 - 34 - 35 - 36 - 37 - 38 - 39 - 40 - 41 - 42 - 43 - 44 - 45 - 46 - 47 - 48 - 49 - 50 - 51 - 52 - 53 - 54 - 55 - 56 - 57 - 58 - 59 - 60 - 61 - 62 - 63 - 64 - 65 - 66 - 67 - 68 - 69 - 70 - 71 - 72 - 73 - 74 - 75 - 76 - 77 - 78 - 79 - 80 - 81 - 82 - 83 - 84 - 85 - 86 - 87 - 88 - 89 - 90 - 91 - 92 - 93 - 94 - 95 - 96 - 97 - 98 - 99 - 100 - 101 - 102 - 103 - 104 - 105 - 106 - 107 - 108 - 109 - 110 - 111 - 112 - 113 - 114 - 115 - 116 - 117 - 118 - 119 - 120 - 121 - 122 - 123 - 124 - 125 - 126 - 127 - 128 - 129 - 130 - 131 - 132 - 133 - 134 - 135 - 136 - 137 - 138 - 139 - 140 - 141 - 142 - 143 - 144 - 145 - 146 - 147 - 148 - 149 - 150 - 151 - 152 - 153 - 154 - "
          ]
        }
      ]
    },
    {
      "cell_type": "code",
      "source": [
        "reviews = pd.read_csv('en_names_dataset.csv')\n",
        "reviews.head()"
      ],
      "metadata": {
        "colab": {
          "base_uri": "https://localhost:8080/",
          "height": 337
        },
        "id": "anGj3pKuSJia",
        "outputId": "4c669135-8f9f-438c-90e7-2ed1007e360f"
      },
      "execution_count": null,
      "outputs": [
        {
          "output_type": "execute_result",
          "data": {
            "text/plain": [
              "                                  translated_summary  \\\n",
              "0  The writer begins presenting the fourth book u...   \n",
              "1  The diplomats of the two countries did not rec...   \n",
              "2  Cassandra declared the French mandate over Val...   \n",
              "3  Monique is the mother of the country, and the ...   \n",
              "4  The Syrian people insist on the independence o...   \n",
              "\n",
              "                                    translated_input  \\\n",
              "0  Under the title From Disaster to Challenge, th...   \n",
              "1  The diplomats of these two countries did not r...   \n",
              "2  The Wilayat of Stephanie was established after...   \n",
              "3  The Arab state of Emily is not any country and...   \n",
              "4  The Syrians insist on the independence of thei...   \n",
              "\n",
              "                                 input_english_names  \\\n",
              "0  {'Israel': 'Steven', 'the United Arab Republic...   \n",
              "1  {'Allal al-Fassi': 'Brittany', 'Morocco': 'Cha...   \n",
              "2  {'Aleppo': 'Stephanie', 'Henri Gouraud': 'Aaro...   \n",
              "3  {'Egypt': 'Emily', 'Morocco': 'Zachary', 'Hosn...   \n",
              "4  {'Sultan Pasha al-Atrash': 'Elizabeth', 'Jabal...   \n",
              "\n",
              "                                target_english_names  \n",
              "0  {'Israel': 'Hannah', 'Abdel Nasser': 'Brian', ...  \n",
              "1  {'Allal Al-Fassi': 'Thomas', 'Cairo': 'Karen',...  \n",
              "2  {'Gouraud': 'Cassandra', 'Syria': 'Valerie', '...  \n",
              "3  {'Egypt': 'Monique', 'Hosni Mubarak': 'Amy', '...  \n",
              "4                                 {'Syria': 'Kevin'}  "
            ],
            "text/html": [
              "\n",
              "  <div id=\"df-9810158e-dc58-40c2-b890-d9efb842a5c8\">\n",
              "    <div class=\"colab-df-container\">\n",
              "      <div>\n",
              "<style scoped>\n",
              "    .dataframe tbody tr th:only-of-type {\n",
              "        vertical-align: middle;\n",
              "    }\n",
              "\n",
              "    .dataframe tbody tr th {\n",
              "        vertical-align: top;\n",
              "    }\n",
              "\n",
              "    .dataframe thead th {\n",
              "        text-align: right;\n",
              "    }\n",
              "</style>\n",
              "<table border=\"1\" class=\"dataframe\">\n",
              "  <thead>\n",
              "    <tr style=\"text-align: right;\">\n",
              "      <th></th>\n",
              "      <th>translated_summary</th>\n",
              "      <th>translated_input</th>\n",
              "      <th>input_english_names</th>\n",
              "      <th>target_english_names</th>\n",
              "    </tr>\n",
              "  </thead>\n",
              "  <tbody>\n",
              "    <tr>\n",
              "      <th>0</th>\n",
              "      <td>The writer begins presenting the fourth book u...</td>\n",
              "      <td>Under the title From Disaster to Challenge, th...</td>\n",
              "      <td>{'Israel': 'Steven', 'the United Arab Republic...</td>\n",
              "      <td>{'Israel': 'Hannah', 'Abdel Nasser': 'Brian', ...</td>\n",
              "    </tr>\n",
              "    <tr>\n",
              "      <th>1</th>\n",
              "      <td>The diplomats of the two countries did not rec...</td>\n",
              "      <td>The diplomats of these two countries did not r...</td>\n",
              "      <td>{'Allal al-Fassi': 'Brittany', 'Morocco': 'Cha...</td>\n",
              "      <td>{'Allal Al-Fassi': 'Thomas', 'Cairo': 'Karen',...</td>\n",
              "    </tr>\n",
              "    <tr>\n",
              "      <th>2</th>\n",
              "      <td>Cassandra declared the French mandate over Val...</td>\n",
              "      <td>The Wilayat of Stephanie was established after...</td>\n",
              "      <td>{'Aleppo': 'Stephanie', 'Henri Gouraud': 'Aaro...</td>\n",
              "      <td>{'Gouraud': 'Cassandra', 'Syria': 'Valerie', '...</td>\n",
              "    </tr>\n",
              "    <tr>\n",
              "      <th>3</th>\n",
              "      <td>Monique is the mother of the country, and the ...</td>\n",
              "      <td>The Arab state of Emily is not any country and...</td>\n",
              "      <td>{'Egypt': 'Emily', 'Morocco': 'Zachary', 'Hosn...</td>\n",
              "      <td>{'Egypt': 'Monique', 'Hosni Mubarak': 'Amy', '...</td>\n",
              "    </tr>\n",
              "    <tr>\n",
              "      <th>4</th>\n",
              "      <td>The Syrian people insist on the independence o...</td>\n",
              "      <td>The Syrians insist on the independence of thei...</td>\n",
              "      <td>{'Sultan Pasha al-Atrash': 'Elizabeth', 'Jabal...</td>\n",
              "      <td>{'Syria': 'Kevin'}</td>\n",
              "    </tr>\n",
              "  </tbody>\n",
              "</table>\n",
              "</div>\n",
              "      <button class=\"colab-df-convert\" onclick=\"convertToInteractive('df-9810158e-dc58-40c2-b890-d9efb842a5c8')\"\n",
              "              title=\"Convert this dataframe to an interactive table.\"\n",
              "              style=\"display:none;\">\n",
              "        \n",
              "  <svg xmlns=\"http://www.w3.org/2000/svg\" height=\"24px\"viewBox=\"0 0 24 24\"\n",
              "       width=\"24px\">\n",
              "    <path d=\"M0 0h24v24H0V0z\" fill=\"none\"/>\n",
              "    <path d=\"M18.56 5.44l.94 2.06.94-2.06 2.06-.94-2.06-.94-.94-2.06-.94 2.06-2.06.94zm-11 1L8.5 8.5l.94-2.06 2.06-.94-2.06-.94L8.5 2.5l-.94 2.06-2.06.94zm10 10l.94 2.06.94-2.06 2.06-.94-2.06-.94-.94-2.06-.94 2.06-2.06.94z\"/><path d=\"M17.41 7.96l-1.37-1.37c-.4-.4-.92-.59-1.43-.59-.52 0-1.04.2-1.43.59L10.3 9.45l-7.72 7.72c-.78.78-.78 2.05 0 2.83L4 21.41c.39.39.9.59 1.41.59.51 0 1.02-.2 1.41-.59l7.78-7.78 2.81-2.81c.8-.78.8-2.07 0-2.86zM5.41 20L4 18.59l7.72-7.72 1.47 1.35L5.41 20z\"/>\n",
              "  </svg>\n",
              "      </button>\n",
              "      \n",
              "  <style>\n",
              "    .colab-df-container {\n",
              "      display:flex;\n",
              "      flex-wrap:wrap;\n",
              "      gap: 12px;\n",
              "    }\n",
              "\n",
              "    .colab-df-convert {\n",
              "      background-color: #E8F0FE;\n",
              "      border: none;\n",
              "      border-radius: 50%;\n",
              "      cursor: pointer;\n",
              "      display: none;\n",
              "      fill: #1967D2;\n",
              "      height: 32px;\n",
              "      padding: 0 0 0 0;\n",
              "      width: 32px;\n",
              "    }\n",
              "\n",
              "    .colab-df-convert:hover {\n",
              "      background-color: #E2EBFA;\n",
              "      box-shadow: 0px 1px 2px rgba(60, 64, 67, 0.3), 0px 1px 3px 1px rgba(60, 64, 67, 0.15);\n",
              "      fill: #174EA6;\n",
              "    }\n",
              "\n",
              "    [theme=dark] .colab-df-convert {\n",
              "      background-color: #3B4455;\n",
              "      fill: #D2E3FC;\n",
              "    }\n",
              "\n",
              "    [theme=dark] .colab-df-convert:hover {\n",
              "      background-color: #434B5C;\n",
              "      box-shadow: 0px 1px 3px 1px rgba(0, 0, 0, 0.15);\n",
              "      filter: drop-shadow(0px 1px 2px rgba(0, 0, 0, 0.3));\n",
              "      fill: #FFFFFF;\n",
              "    }\n",
              "  </style>\n",
              "\n",
              "      <script>\n",
              "        const buttonEl =\n",
              "          document.querySelector('#df-9810158e-dc58-40c2-b890-d9efb842a5c8 button.colab-df-convert');\n",
              "        buttonEl.style.display =\n",
              "          google.colab.kernel.accessAllowed ? 'block' : 'none';\n",
              "\n",
              "        async function convertToInteractive(key) {\n",
              "          const element = document.querySelector('#df-9810158e-dc58-40c2-b890-d9efb842a5c8');\n",
              "          const dataTable =\n",
              "            await google.colab.kernel.invokeFunction('convertToInteractive',\n",
              "                                                     [key], {});\n",
              "          if (!dataTable) return;\n",
              "\n",
              "          const docLinkHtml = 'Like what you see? Visit the ' +\n",
              "            '<a target=\"_blank\" href=https://colab.research.google.com/notebooks/data_table.ipynb>data table notebook</a>'\n",
              "            + ' to learn more about interactive tables.';\n",
              "          element.innerHTML = '';\n",
              "          dataTable['output_type'] = 'display_data';\n",
              "          await google.colab.output.renderOutput(dataTable, element);\n",
              "          const docLink = document.createElement('div');\n",
              "          docLink.innerHTML = docLinkHtml;\n",
              "          element.appendChild(docLink);\n",
              "        }\n",
              "      </script>\n",
              "    </div>\n",
              "  </div>\n",
              "  "
            ]
          },
          "metadata": {},
          "execution_count": 10
        }
      ]
    },
    {
      "cell_type": "code",
      "execution_count": null,
      "metadata": {
        "id": "28X3z5INtAfO"
      },
      "outputs": [],
      "source": [
        "import torch\n",
        "from torch.utils.data import Dataset, DataLoader\n",
        "from transformers import Trainer, TrainingArguments\n",
        "\n",
        "# T5 model\n",
        "from transformers import T5Tokenizer, T5ForConditionalGeneration, T5Config\n",
        "\n",
        "\n"
      ]
    },
    {
      "cell_type": "code",
      "execution_count": null,
      "metadata": {
        "id": "FzjP3HRT33gd"
      },
      "outputs": [],
      "source": [
        "# Define your custom dataset\n",
        "class CustomDataset(Dataset):\n",
        "    def __init__(self, tokenizer, data):\n",
        "        self.tokenizer = tokenizer\n",
        "        self.data = data\n",
        "\n",
        "    def __len__(self):\n",
        "        return len(self.data)\n",
        "\n",
        "    def __getitem__(self, index):\n",
        "        input_text = str(self.data.loc[index, \"translated_input\"])\n",
        "        target_text = str(self.data.loc[index, \"translated_summary\"])\n",
        "\n",
        "        encoding = self.tokenizer.prepare_seq2seq_batch(\n",
        "            src_texts=[input_text],\n",
        "            tgt_texts=[target_text],\n",
        "            max_length=512,\n",
        "            padding=\"max_length\",\n",
        "            truncation=True,\n",
        "            return_tensors=\"pt\"\n",
        "        )\n",
        "\n",
        "        return {\n",
        "            \"input_ids\": encoding.input_ids.squeeze(),\n",
        "            \"attention_mask\": encoding.attention_mask.squeeze(),\n",
        "            \"labels\": encoding.labels.squeeze()\n",
        "        }"
      ]
    },
    {
      "cell_type": "code",
      "execution_count": null,
      "metadata": {
        "colab": {
          "base_uri": "https://localhost:8080/"
        },
        "id": "n2ap8pjU39k3",
        "outputId": "125f71c4-29a7-4443-d9cf-b2a4ee0f7779"
      },
      "outputs": [
        {
          "output_type": "stream",
          "name": "stderr",
          "text": [
            "/usr/local/lib/python3.10/dist-packages/transformers/models/t5/tokenization_t5.py:163: FutureWarning: This tokenizer was incorrectly instantiated with a model max length of 512 which will be corrected in Transformers v5.\n",
            "For now, this behavior is kept to avoid breaking backwards compatibility when padding/encoding with `truncation is True`.\n",
            "- Be aware that you SHOULD NOT rely on t5-base automatically truncating your input to 512 when padding/encoding.\n",
            "- If you want to encode/pad to sequences longer than 512 you can either instantiate this tokenizer with `model_max_length` or pass `max_length` when encoding/padding.\n",
            "- To avoid this warning, please instantiate this tokenizer with `model_max_length` set to your preferred value.\n",
            "  warnings.warn(\n"
          ]
        }
      ],
      "source": [
        "# Initialize the T5 tokenizer and model\n",
        "# T5\n",
        "tokenizer = T5Tokenizer.from_pretrained(\"t5-base\")\n",
        "model = T5ForConditionalGeneration.from_pretrained(\"t5-base\")\n",
        "\n",
        "\n"
      ]
    },
    {
      "cell_type": "code",
      "execution_count": null,
      "metadata": {
        "id": "fzmEaRVIh_uy",
        "colab": {
          "base_uri": "https://localhost:8080/",
          "height": 1000
        },
        "outputId": "3264a218-a7e6-4aa7-8784-893b2db61b7c"
      },
      "outputs": [
        {
          "data": {
            "text/html": [
              "\n",
              "    <div>\n",
              "      \n",
              "      <progress value='4248' max='5070' style='width:300px; height:20px; vertical-align: middle;'></progress>\n",
              "      [4248/5070 1:24:53 < 16:26, 0.83 it/s, Epoch 108.90/130]\n",
              "    </div>\n",
              "    <table border=\"1\" class=\"dataframe\">\n",
              "  <thead>\n",
              " <tr style=\"text-align: left;\">\n",
              "      <th>Step</th>\n",
              "      <th>Training Loss</th>\n",
              "    </tr>\n",
              "  </thead>\n",
              "  <tbody>\n",
              "    <tr>\n",
              "      <td>100</td>\n",
              "      <td>0.531300</td>\n",
              "    </tr>\n",
              "    <tr>\n",
              "      <td>200</td>\n",
              "      <td>0.580900</td>\n",
              "    </tr>\n",
              "    <tr>\n",
              "      <td>300</td>\n",
              "      <td>0.508900</td>\n",
              "    </tr>\n",
              "    <tr>\n",
              "      <td>400</td>\n",
              "      <td>0.476700</td>\n",
              "    </tr>\n",
              "    <tr>\n",
              "      <td>500</td>\n",
              "      <td>0.416500</td>\n",
              "    </tr>\n",
              "    <tr>\n",
              "      <td>600</td>\n",
              "      <td>0.387400</td>\n",
              "    </tr>\n",
              "    <tr>\n",
              "      <td>700</td>\n",
              "      <td>0.348700</td>\n",
              "    </tr>\n",
              "    <tr>\n",
              "      <td>800</td>\n",
              "      <td>0.315200</td>\n",
              "    </tr>\n",
              "    <tr>\n",
              "      <td>900</td>\n",
              "      <td>0.292700</td>\n",
              "    </tr>\n",
              "    <tr>\n",
              "      <td>1000</td>\n",
              "      <td>0.260400</td>\n",
              "    </tr>\n",
              "    <tr>\n",
              "      <td>1100</td>\n",
              "      <td>0.242900</td>\n",
              "    </tr>\n",
              "    <tr>\n",
              "      <td>1200</td>\n",
              "      <td>0.217700</td>\n",
              "    </tr>\n",
              "    <tr>\n",
              "      <td>1300</td>\n",
              "      <td>0.200900</td>\n",
              "    </tr>\n",
              "    <tr>\n",
              "      <td>1400</td>\n",
              "      <td>0.183300</td>\n",
              "    </tr>\n",
              "    <tr>\n",
              "      <td>1500</td>\n",
              "      <td>0.168100</td>\n",
              "    </tr>\n",
              "    <tr>\n",
              "      <td>1600</td>\n",
              "      <td>0.155100</td>\n",
              "    </tr>\n",
              "    <tr>\n",
              "      <td>1700</td>\n",
              "      <td>0.141800</td>\n",
              "    </tr>\n",
              "    <tr>\n",
              "      <td>1800</td>\n",
              "      <td>0.129700</td>\n",
              "    </tr>\n",
              "    <tr>\n",
              "      <td>1900</td>\n",
              "      <td>0.121500</td>\n",
              "    </tr>\n",
              "    <tr>\n",
              "      <td>2000</td>\n",
              "      <td>0.109600</td>\n",
              "    </tr>\n",
              "    <tr>\n",
              "      <td>2100</td>\n",
              "      <td>0.105300</td>\n",
              "    </tr>\n",
              "    <tr>\n",
              "      <td>2200</td>\n",
              "      <td>0.095700</td>\n",
              "    </tr>\n",
              "    <tr>\n",
              "      <td>2300</td>\n",
              "      <td>0.089400</td>\n",
              "    </tr>\n",
              "    <tr>\n",
              "      <td>2400</td>\n",
              "      <td>0.081100</td>\n",
              "    </tr>\n",
              "    <tr>\n",
              "      <td>2500</td>\n",
              "      <td>0.078800</td>\n",
              "    </tr>\n",
              "    <tr>\n",
              "      <td>2600</td>\n",
              "      <td>0.074400</td>\n",
              "    </tr>\n",
              "    <tr>\n",
              "      <td>2700</td>\n",
              "      <td>0.068700</td>\n",
              "    </tr>\n",
              "    <tr>\n",
              "      <td>2800</td>\n",
              "      <td>0.065000</td>\n",
              "    </tr>\n",
              "    <tr>\n",
              "      <td>2900</td>\n",
              "      <td>0.059700</td>\n",
              "    </tr>\n",
              "    <tr>\n",
              "      <td>3000</td>\n",
              "      <td>0.057900</td>\n",
              "    </tr>\n",
              "    <tr>\n",
              "      <td>3100</td>\n",
              "      <td>0.055100</td>\n",
              "    </tr>\n",
              "    <tr>\n",
              "      <td>3200</td>\n",
              "      <td>0.052500</td>\n",
              "    </tr>\n",
              "    <tr>\n",
              "      <td>3300</td>\n",
              "      <td>0.049000</td>\n",
              "    </tr>\n",
              "    <tr>\n",
              "      <td>3400</td>\n",
              "      <td>0.047300</td>\n",
              "    </tr>\n",
              "    <tr>\n",
              "      <td>3500</td>\n",
              "      <td>0.043900</td>\n",
              "    </tr>\n",
              "    <tr>\n",
              "      <td>3600</td>\n",
              "      <td>0.042500</td>\n",
              "    </tr>\n",
              "    <tr>\n",
              "      <td>3700</td>\n",
              "      <td>0.044400</td>\n",
              "    </tr>\n",
              "    <tr>\n",
              "      <td>3800</td>\n",
              "      <td>0.040700</td>\n",
              "    </tr>\n",
              "    <tr>\n",
              "      <td>3900</td>\n",
              "      <td>0.039100</td>\n",
              "    </tr>\n",
              "    <tr>\n",
              "      <td>4000</td>\n",
              "      <td>0.036700</td>\n",
              "    </tr>\n",
              "    <tr>\n",
              "      <td>4100</td>\n",
              "      <td>0.037000</td>\n",
              "    </tr>\n",
              "    <tr>\n",
              "      <td>4200</td>\n",
              "      <td>0.036100</td>\n",
              "    </tr>\n",
              "  </tbody>\n",
              "</table><p>"
            ],
            "text/plain": [
              "<IPython.core.display.HTML object>"
            ]
          },
          "metadata": {},
          "output_type": "display_data"
        },
        {
          "metadata": {
            "tags": null
          },
          "name": "stderr",
          "output_type": "stream",
          "text": [
            "/usr/local/lib/python3.10/dist-packages/transformers/tokenization_utils_base.py:3745: FutureWarning: \n",
            "`prepare_seq2seq_batch` is deprecated and will be removed in version 5 of HuggingFace Transformers. Use the regular\n",
            "`__call__` method to prepare your inputs and targets.\n",
            "\n",
            "Here is a short example:\n",
            "\n",
            "model_inputs = tokenizer(src_texts, text_target=tgt_texts, ...)\n",
            "\n",
            "If you either need to use different keyword arguments for the source and target texts, you should do two calls like\n",
            "this:\n",
            "\n",
            "model_inputs = tokenizer(src_texts, ...)\n",
            "labels = tokenizer(text_target=tgt_texts, ...)\n",
            "model_inputs[\"labels\"] = labels[\"input_ids\"]\n",
            "\n",
            "See the documentation of your specific tokenizer for more details on the specific arguments to the tokenizer of choice.\n",
            "For a more complete example, see the implementation of `prepare_seq2seq_batch`.\n",
            "\n",
            "  warnings.warn(formatted_warning, FutureWarning)\n",
            "/usr/local/lib/python3.10/dist-packages/transformers/tokenization_utils_base.py:3619: UserWarning: `as_target_tokenizer` is deprecated and will be removed in v5 of Transformers. You can tokenize your labels by using the argument `text_target` of the regular `__call__` method (either in the same call as your input texts if you use the same keyword arguments, or in a separate call.\n",
            "  warnings.warn(\n",
            "/usr/local/lib/python3.10/dist-packages/transformers/tokenization_utils_base.py:3745: FutureWarning: \n",
            "`prepare_seq2seq_batch` is deprecated and will be removed in version 5 of HuggingFace Transformers. Use the regular\n",
            "`__call__` method to prepare your inputs and targets.\n",
            "\n",
            "Here is a short example:\n",
            "\n",
            "model_inputs = tokenizer(src_texts, text_target=tgt_texts, ...)\n",
            "\n",
            "If you either need to use different keyword arguments for the source and target texts, you should do two calls like\n",
            "this:\n",
            "\n",
            "model_inputs = tokenizer(src_texts, ...)\n",
            "labels = tokenizer(text_target=tgt_texts, ...)\n",
            "model_inputs[\"labels\"] = labels[\"input_ids\"]\n",
            "\n",
            "See the documentation of your specific tokenizer for more details on the specific arguments to the tokenizer of choice.\n",
            "For a more complete example, see the implementation of `prepare_seq2seq_batch`.\n",
            "\n",
            "  warnings.warn(formatted_warning, FutureWarning)\n",
            "/usr/local/lib/python3.10/dist-packages/transformers/tokenization_utils_base.py:3619: UserWarning: `as_target_tokenizer` is deprecated and will be removed in v5 of Transformers. You can tokenize your labels by using the argument `text_target` of the regular `__call__` method (either in the same call as your input texts if you use the same keyword arguments, or in a separate call.\n",
            "  warnings.warn(\n",
            "/usr/local/lib/python3.10/dist-packages/transformers/tokenization_utils_base.py:3745: FutureWarning: \n",
            "`prepare_seq2seq_batch` is deprecated and will be removed in version 5 of HuggingFace Transformers. Use the regular\n",
            "`__call__` method to prepare your inputs and targets.\n",
            "\n",
            "Here is a short example:\n",
            "\n",
            "model_inputs = tokenizer(src_texts, text_target=tgt_texts, ...)\n",
            "\n",
            "If you either need to use different keyword arguments for the source and target texts, you should do two calls like\n",
            "this:\n",
            "\n",
            "model_inputs = tokenizer(src_texts, ...)\n",
            "labels = tokenizer(text_target=tgt_texts, ...)\n",
            "model_inputs[\"labels\"] = labels[\"input_ids\"]\n",
            "\n",
            "See the documentation of your specific tokenizer for more details on the specific arguments to the tokenizer of choice.\n",
            "For a more complete example, see the implementation of `prepare_seq2seq_batch`.\n",
            "\n",
            "  warnings.warn(formatted_warning, FutureWarning)\n",
            "/usr/local/lib/python3.10/dist-packages/transformers/tokenization_utils_base.py:3619: UserWarning: `as_target_tokenizer` is deprecated and will be removed in v5 of Transformers. You can tokenize your labels by using the argument `text_target` of the regular `__call__` method (either in the same call as your input texts if you use the same keyword arguments, or in a separate call.\n",
            "  warnings.warn(\n",
            "/usr/local/lib/python3.10/dist-packages/transformers/tokenization_utils_base.py:3745: FutureWarning: \n",
            "`prepare_seq2seq_batch` is deprecated and will be removed in version 5 of HuggingFace Transformers. Use the regular\n",
            "`__call__` method to prepare your inputs and targets.\n",
            "\n",
            "Here is a short example:\n",
            "\n",
            "model_inputs = tokenizer(src_texts, text_target=tgt_texts, ...)\n",
            "\n",
            "If you either need to use different keyword arguments for the source and target texts, you should do two calls like\n",
            "this:\n",
            "\n",
            "model_inputs = tokenizer(src_texts, ...)\n",
            "labels = tokenizer(text_target=tgt_texts, ...)\n",
            "model_inputs[\"labels\"] = labels[\"input_ids\"]\n",
            "\n",
            "See the documentation of your specific tokenizer for more details on the specific arguments to the tokenizer of choice.\n",
            "For a more complete example, see the implementation of `prepare_seq2seq_batch`.\n",
            "\n",
            "  warnings.warn(formatted_warning, FutureWarning)\n",
            "/usr/local/lib/python3.10/dist-packages/transformers/tokenization_utils_base.py:3619: UserWarning: `as_target_tokenizer` is deprecated and will be removed in v5 of Transformers. You can tokenize your labels by using the argument `text_target` of the regular `__call__` method (either in the same call as your input texts if you use the same keyword arguments, or in a separate call.\n",
            "  warnings.warn(\n",
            "/usr/local/lib/python3.10/dist-packages/transformers/tokenization_utils_base.py:3745: FutureWarning: \n",
            "`prepare_seq2seq_batch` is deprecated and will be removed in version 5 of HuggingFace Transformers. Use the regular\n",
            "`__call__` method to prepare your inputs and targets.\n",
            "\n",
            "Here is a short example:\n",
            "\n",
            "model_inputs = tokenizer(src_texts, text_target=tgt_texts, ...)\n",
            "\n",
            "If you either need to use different keyword arguments for the source and target texts, you should do two calls like\n",
            "this:\n",
            "\n",
            "model_inputs = tokenizer(src_texts, ...)\n",
            "labels = tokenizer(text_target=tgt_texts, ...)\n",
            "model_inputs[\"labels\"] = labels[\"input_ids\"]\n",
            "\n",
            "See the documentation of your specific tokenizer for more details on the specific arguments to the tokenizer of choice.\n",
            "For a more complete example, see the implementation of `prepare_seq2seq_batch`.\n",
            "\n",
            "  warnings.warn(formatted_warning, FutureWarning)\n",
            "/usr/local/lib/python3.10/dist-packages/transformers/tokenization_utils_base.py:3619: UserWarning: `as_target_tokenizer` is deprecated and will be removed in v5 of Transformers. You can tokenize your labels by using the argument `text_target` of the regular `__call__` method (either in the same call as your input texts if you use the same keyword arguments, or in a separate call.\n",
            "  warnings.warn(\n",
            "/usr/local/lib/python3.10/dist-packages/transformers/tokenization_utils_base.py:3745: FutureWarning: \n",
            "`prepare_seq2seq_batch` is deprecated and will be removed in version 5 of HuggingFace Transformers. Use the regular\n",
            "`__call__` method to prepare your inputs and targets.\n",
            "\n",
            "Here is a short example:\n",
            "\n",
            "model_inputs = tokenizer(src_texts, text_target=tgt_texts, ...)\n",
            "\n",
            "If you either need to use different keyword arguments for the source and target texts, you should do two calls like\n",
            "this:\n",
            "\n",
            "model_inputs = tokenizer(src_texts, ...)\n",
            "labels = tokenizer(text_target=tgt_texts, ...)\n",
            "model_inputs[\"labels\"] = labels[\"input_ids\"]\n",
            "\n",
            "See the documentation of your specific tokenizer for more details on the specific arguments to the tokenizer of choice.\n",
            "For a more complete example, see the implementation of `prepare_seq2seq_batch`.\n",
            "\n",
            "  warnings.warn(formatted_warning, FutureWarning)\n",
            "/usr/local/lib/python3.10/dist-packages/transformers/tokenization_utils_base.py:3619: UserWarning: `as_target_tokenizer` is deprecated and will be removed in v5 of Transformers. You can tokenize your labels by using the argument `text_target` of the regular `__call__` method (either in the same call as your input texts if you use the same keyword arguments, or in a separate call.\n",
            "  warnings.warn(\n",
            "/usr/local/lib/python3.10/dist-packages/transformers/tokenization_utils_base.py:3745: FutureWarning: \n",
            "`prepare_seq2seq_batch` is deprecated and will be removed in version 5 of HuggingFace Transformers. Use the regular\n",
            "`__call__` method to prepare your inputs and targets.\n",
            "\n",
            "Here is a short example:\n",
            "\n",
            "model_inputs = tokenizer(src_texts, text_target=tgt_texts, ...)\n",
            "\n",
            "If you either need to use different keyword arguments for the source and target texts, you should do two calls like\n",
            "this:\n",
            "\n",
            "model_inputs = tokenizer(src_texts, ...)\n",
            "labels = tokenizer(text_target=tgt_texts, ...)\n",
            "model_inputs[\"labels\"] = labels[\"input_ids\"]\n",
            "\n",
            "See the documentation of your specific tokenizer for more details on the specific arguments to the tokenizer of choice.\n",
            "For a more complete example, see the implementation of `prepare_seq2seq_batch`.\n",
            "\n",
            "  warnings.warn(formatted_warning, FutureWarning)\n",
            "/usr/local/lib/python3.10/dist-packages/transformers/tokenization_utils_base.py:3619: UserWarning: `as_target_tokenizer` is deprecated and will be removed in v5 of Transformers. You can tokenize your labels by using the argument `text_target` of the regular `__call__` method (either in the same call as your input texts if you use the same keyword arguments, or in a separate call.\n",
            "  warnings.warn(\n",
            "/usr/local/lib/python3.10/dist-packages/transformers/tokenization_utils_base.py:3745: FutureWarning: \n",
            "`prepare_seq2seq_batch` is deprecated and will be removed in version 5 of HuggingFace Transformers. Use the regular\n",
            "`__call__` method to prepare your inputs and targets.\n",
            "\n",
            "Here is a short example:\n",
            "\n",
            "model_inputs = tokenizer(src_texts, text_target=tgt_texts, ...)\n",
            "\n",
            "If you either need to use different keyword arguments for the source and target texts, you should do two calls like\n",
            "this:\n",
            "\n",
            "model_inputs = tokenizer(src_texts, ...)\n",
            "labels = tokenizer(text_target=tgt_texts, ...)\n",
            "model_inputs[\"labels\"] = labels[\"input_ids\"]\n",
            "\n",
            "See the documentation of your specific tokenizer for more details on the specific arguments to the tokenizer of choice.\n",
            "For a more complete example, see the implementation of `prepare_seq2seq_batch`.\n",
            "\n",
            "  warnings.warn(formatted_warning, FutureWarning)\n",
            "/usr/local/lib/python3.10/dist-packages/transformers/tokenization_utils_base.py:3619: UserWarning: `as_target_tokenizer` is deprecated and will be removed in v5 of Transformers. You can tokenize your labels by using the argument `text_target` of the regular `__call__` method (either in the same call as your input texts if you use the same keyword arguments, or in a separate call.\n",
            "  warnings.warn(\n"
          ]
        },
        {
          "output_type": "display_data",
          "data": {
            "text/plain": [
              "<IPython.core.display.HTML object>"
            ],
            "text/html": [
              "\n",
              "    <div>\n",
              "      \n",
              "      <progress value='5070' max='5070' style='width:300px; height:20px; vertical-align: middle;'></progress>\n",
              "      [5070/5070 1:41:33, Epoch 130/130]\n",
              "    </div>\n",
              "    <table border=\"1\" class=\"dataframe\">\n",
              "  <thead>\n",
              " <tr style=\"text-align: left;\">\n",
              "      <th>Step</th>\n",
              "      <th>Training Loss</th>\n",
              "    </tr>\n",
              "  </thead>\n",
              "  <tbody>\n",
              "    <tr>\n",
              "      <td>100</td>\n",
              "      <td>0.531300</td>\n",
              "    </tr>\n",
              "    <tr>\n",
              "      <td>200</td>\n",
              "      <td>0.580900</td>\n",
              "    </tr>\n",
              "    <tr>\n",
              "      <td>300</td>\n",
              "      <td>0.508900</td>\n",
              "    </tr>\n",
              "    <tr>\n",
              "      <td>400</td>\n",
              "      <td>0.476700</td>\n",
              "    </tr>\n",
              "    <tr>\n",
              "      <td>500</td>\n",
              "      <td>0.416500</td>\n",
              "    </tr>\n",
              "    <tr>\n",
              "      <td>600</td>\n",
              "      <td>0.387400</td>\n",
              "    </tr>\n",
              "    <tr>\n",
              "      <td>700</td>\n",
              "      <td>0.348700</td>\n",
              "    </tr>\n",
              "    <tr>\n",
              "      <td>800</td>\n",
              "      <td>0.315200</td>\n",
              "    </tr>\n",
              "    <tr>\n",
              "      <td>900</td>\n",
              "      <td>0.292700</td>\n",
              "    </tr>\n",
              "    <tr>\n",
              "      <td>1000</td>\n",
              "      <td>0.260400</td>\n",
              "    </tr>\n",
              "    <tr>\n",
              "      <td>1100</td>\n",
              "      <td>0.242900</td>\n",
              "    </tr>\n",
              "    <tr>\n",
              "      <td>1200</td>\n",
              "      <td>0.217700</td>\n",
              "    </tr>\n",
              "    <tr>\n",
              "      <td>1300</td>\n",
              "      <td>0.200900</td>\n",
              "    </tr>\n",
              "    <tr>\n",
              "      <td>1400</td>\n",
              "      <td>0.183300</td>\n",
              "    </tr>\n",
              "    <tr>\n",
              "      <td>1500</td>\n",
              "      <td>0.168100</td>\n",
              "    </tr>\n",
              "    <tr>\n",
              "      <td>1600</td>\n",
              "      <td>0.155100</td>\n",
              "    </tr>\n",
              "    <tr>\n",
              "      <td>1700</td>\n",
              "      <td>0.141800</td>\n",
              "    </tr>\n",
              "    <tr>\n",
              "      <td>1800</td>\n",
              "      <td>0.129700</td>\n",
              "    </tr>\n",
              "    <tr>\n",
              "      <td>1900</td>\n",
              "      <td>0.121500</td>\n",
              "    </tr>\n",
              "    <tr>\n",
              "      <td>2000</td>\n",
              "      <td>0.109600</td>\n",
              "    </tr>\n",
              "    <tr>\n",
              "      <td>2100</td>\n",
              "      <td>0.105300</td>\n",
              "    </tr>\n",
              "    <tr>\n",
              "      <td>2200</td>\n",
              "      <td>0.095700</td>\n",
              "    </tr>\n",
              "    <tr>\n",
              "      <td>2300</td>\n",
              "      <td>0.089400</td>\n",
              "    </tr>\n",
              "    <tr>\n",
              "      <td>2400</td>\n",
              "      <td>0.081100</td>\n",
              "    </tr>\n",
              "    <tr>\n",
              "      <td>2500</td>\n",
              "      <td>0.078800</td>\n",
              "    </tr>\n",
              "    <tr>\n",
              "      <td>2600</td>\n",
              "      <td>0.074400</td>\n",
              "    </tr>\n",
              "    <tr>\n",
              "      <td>2700</td>\n",
              "      <td>0.068700</td>\n",
              "    </tr>\n",
              "    <tr>\n",
              "      <td>2800</td>\n",
              "      <td>0.065000</td>\n",
              "    </tr>\n",
              "    <tr>\n",
              "      <td>2900</td>\n",
              "      <td>0.059700</td>\n",
              "    </tr>\n",
              "    <tr>\n",
              "      <td>3000</td>\n",
              "      <td>0.057900</td>\n",
              "    </tr>\n",
              "    <tr>\n",
              "      <td>3100</td>\n",
              "      <td>0.055100</td>\n",
              "    </tr>\n",
              "    <tr>\n",
              "      <td>3200</td>\n",
              "      <td>0.052500</td>\n",
              "    </tr>\n",
              "    <tr>\n",
              "      <td>3300</td>\n",
              "      <td>0.049000</td>\n",
              "    </tr>\n",
              "    <tr>\n",
              "      <td>3400</td>\n",
              "      <td>0.047300</td>\n",
              "    </tr>\n",
              "    <tr>\n",
              "      <td>3500</td>\n",
              "      <td>0.043900</td>\n",
              "    </tr>\n",
              "    <tr>\n",
              "      <td>3600</td>\n",
              "      <td>0.042500</td>\n",
              "    </tr>\n",
              "    <tr>\n",
              "      <td>3700</td>\n",
              "      <td>0.044400</td>\n",
              "    </tr>\n",
              "    <tr>\n",
              "      <td>3800</td>\n",
              "      <td>0.040700</td>\n",
              "    </tr>\n",
              "    <tr>\n",
              "      <td>3900</td>\n",
              "      <td>0.039100</td>\n",
              "    </tr>\n",
              "    <tr>\n",
              "      <td>4000</td>\n",
              "      <td>0.036700</td>\n",
              "    </tr>\n",
              "    <tr>\n",
              "      <td>4100</td>\n",
              "      <td>0.037000</td>\n",
              "    </tr>\n",
              "    <tr>\n",
              "      <td>4200</td>\n",
              "      <td>0.036100</td>\n",
              "    </tr>\n",
              "    <tr>\n",
              "      <td>4300</td>\n",
              "      <td>0.035600</td>\n",
              "    </tr>\n",
              "    <tr>\n",
              "      <td>4400</td>\n",
              "      <td>0.034500</td>\n",
              "    </tr>\n",
              "    <tr>\n",
              "      <td>4500</td>\n",
              "      <td>0.033300</td>\n",
              "    </tr>\n",
              "    <tr>\n",
              "      <td>4600</td>\n",
              "      <td>0.033400</td>\n",
              "    </tr>\n",
              "    <tr>\n",
              "      <td>4700</td>\n",
              "      <td>0.031900</td>\n",
              "    </tr>\n",
              "    <tr>\n",
              "      <td>4800</td>\n",
              "      <td>0.032600</td>\n",
              "    </tr>\n",
              "    <tr>\n",
              "      <td>4900</td>\n",
              "      <td>0.031900</td>\n",
              "    </tr>\n",
              "    <tr>\n",
              "      <td>5000</td>\n",
              "      <td>0.031200</td>\n",
              "    </tr>\n",
              "  </tbody>\n",
              "</table><p>"
            ]
          },
          "metadata": {}
        },
        {
          "output_type": "stream",
          "name": "stderr",
          "text": [
            "/usr/local/lib/python3.10/dist-packages/transformers/tokenization_utils_base.py:3745: FutureWarning: \n",
            "`prepare_seq2seq_batch` is deprecated and will be removed in version 5 of HuggingFace Transformers. Use the regular\n",
            "`__call__` method to prepare your inputs and targets.\n",
            "\n",
            "Here is a short example:\n",
            "\n",
            "model_inputs = tokenizer(src_texts, text_target=tgt_texts, ...)\n",
            "\n",
            "If you either need to use different keyword arguments for the source and target texts, you should do two calls like\n",
            "this:\n",
            "\n",
            "model_inputs = tokenizer(src_texts, ...)\n",
            "labels = tokenizer(text_target=tgt_texts, ...)\n",
            "model_inputs[\"labels\"] = labels[\"input_ids\"]\n",
            "\n",
            "See the documentation of your specific tokenizer for more details on the specific arguments to the tokenizer of choice.\n",
            "For a more complete example, see the implementation of `prepare_seq2seq_batch`.\n",
            "\n",
            "  warnings.warn(formatted_warning, FutureWarning)\n",
            "/usr/local/lib/python3.10/dist-packages/transformers/tokenization_utils_base.py:3619: UserWarning: `as_target_tokenizer` is deprecated and will be removed in v5 of Transformers. You can tokenize your labels by using the argument `text_target` of the regular `__call__` method (either in the same call as your input texts if you use the same keyword arguments, or in a separate call.\n",
            "  warnings.warn(\n",
            "/usr/local/lib/python3.10/dist-packages/transformers/tokenization_utils_base.py:3745: FutureWarning: \n",
            "`prepare_seq2seq_batch` is deprecated and will be removed in version 5 of HuggingFace Transformers. Use the regular\n",
            "`__call__` method to prepare your inputs and targets.\n",
            "\n",
            "Here is a short example:\n",
            "\n",
            "model_inputs = tokenizer(src_texts, text_target=tgt_texts, ...)\n",
            "\n",
            "If you either need to use different keyword arguments for the source and target texts, you should do two calls like\n",
            "this:\n",
            "\n",
            "model_inputs = tokenizer(src_texts, ...)\n",
            "labels = tokenizer(text_target=tgt_texts, ...)\n",
            "model_inputs[\"labels\"] = labels[\"input_ids\"]\n",
            "\n",
            "See the documentation of your specific tokenizer for more details on the specific arguments to the tokenizer of choice.\n",
            "For a more complete example, see the implementation of `prepare_seq2seq_batch`.\n",
            "\n",
            "  warnings.warn(formatted_warning, FutureWarning)\n",
            "/usr/local/lib/python3.10/dist-packages/transformers/tokenization_utils_base.py:3619: UserWarning: `as_target_tokenizer` is deprecated and will be removed in v5 of Transformers. You can tokenize your labels by using the argument `text_target` of the regular `__call__` method (either in the same call as your input texts if you use the same keyword arguments, or in a separate call.\n",
            "  warnings.warn(\n"
          ]
        },
        {
          "output_type": "execute_result",
          "data": {
            "text/plain": [
              "('model_summary_arabic/tokenizer_config.json',\n",
              " 'model_summary_arabic/special_tokens_map.json',\n",
              " 'model_summary_arabic/spiece.model',\n",
              " 'model_summary_arabic/added_tokens.json')"
            ]
          },
          "metadata": {},
          "execution_count": 16
        }
      ],
      "source": [
        "# Create your training dataset\n",
        "train_dataset = CustomDataset(tokenizer, reviews)\n",
        "\n",
        "# Set up the training arguments\n",
        "training_args = TrainingArguments(\n",
        "    output_dir=\"./\",\n",
        "    num_train_epochs=130,\n",
        "    per_device_train_batch_size=4,\n",
        "    per_device_eval_batch_size=9,\n",
        "    warmup_steps=100,\n",
        "    weight_decay=0.01,\n",
        "    logging_dir=\"./logs\",\n",
        "    logging_steps=100,\n",
        "\n",
        ")\n",
        "\n",
        "# Initialize the trainer\n",
        "trainer = Trainer(\n",
        "    model=model,\n",
        "    args=training_args,\n",
        "    train_dataset=train_dataset,\n",
        "    data_collator=None\n",
        ")\n",
        "\n",
        "# Start training\n",
        "trainer.train()\n",
        "\n",
        "# Save the trained model\n",
        "output_dir = \"model_summary_arabic\"\n",
        "model.save_pretrained(output_dir)\n",
        "tokenizer.save_pretrained(output_dir)\n"
      ]
    },
    {
      "cell_type": "markdown",
      "metadata": {
        "id": "vUr7koeSLVHg"
      },
      "source": [
        "# Step 5: Load the model for inference (Predict)"
      ]
    },
    {
      "cell_type": "code",
      "source": [
        "reviews.head()"
      ],
      "metadata": {
        "colab": {
          "base_uri": "https://localhost:8080/",
          "height": 337
        },
        "id": "C1l7ozBesfPN",
        "outputId": "58b1bac8-a77d-4d88-b2ec-8013e8bc786f"
      },
      "execution_count": null,
      "outputs": [
        {
          "output_type": "execute_result",
          "data": {
            "text/plain": [
              "                                  translated_summary  \\\n",
              "0  The writer begins presenting the fourth book u...   \n",
              "1  The diplomats of the two countries did not rec...   \n",
              "2  Cassandra declared the French mandate over Val...   \n",
              "3  Monique is the mother of the country, and the ...   \n",
              "4  The Syrian people insist on the independence o...   \n",
              "\n",
              "                                    translated_input  \\\n",
              "0  Under the title From Disaster to Challenge, th...   \n",
              "1  The diplomats of these two countries did not r...   \n",
              "2  The Wilayat of Stephanie was established after...   \n",
              "3  The Arab state of Emily is not any country and...   \n",
              "4  The Syrians insist on the independence of thei...   \n",
              "\n",
              "                                 input_english_names  \\\n",
              "0  {'Israel': 'Steven', 'the United Arab Republic...   \n",
              "1  {'Allal al-Fassi': 'Brittany', 'Morocco': 'Cha...   \n",
              "2  {'Aleppo': 'Stephanie', 'Henri Gouraud': 'Aaro...   \n",
              "3  {'Egypt': 'Emily', 'Morocco': 'Zachary', 'Hosn...   \n",
              "4  {'Sultan Pasha al-Atrash': 'Elizabeth', 'Jabal...   \n",
              "\n",
              "                                target_english_names  \n",
              "0  {'Israel': 'Hannah', 'Abdel Nasser': 'Brian', ...  \n",
              "1  {'Allal Al-Fassi': 'Thomas', 'Cairo': 'Karen',...  \n",
              "2  {'Gouraud': 'Cassandra', 'Syria': 'Valerie', '...  \n",
              "3  {'Egypt': 'Monique', 'Hosni Mubarak': 'Amy', '...  \n",
              "4                                 {'Syria': 'Kevin'}  "
            ],
            "text/html": [
              "\n",
              "  <div id=\"df-05b043ad-0c3f-491d-817e-071b85ac4553\">\n",
              "    <div class=\"colab-df-container\">\n",
              "      <div>\n",
              "<style scoped>\n",
              "    .dataframe tbody tr th:only-of-type {\n",
              "        vertical-align: middle;\n",
              "    }\n",
              "\n",
              "    .dataframe tbody tr th {\n",
              "        vertical-align: top;\n",
              "    }\n",
              "\n",
              "    .dataframe thead th {\n",
              "        text-align: right;\n",
              "    }\n",
              "</style>\n",
              "<table border=\"1\" class=\"dataframe\">\n",
              "  <thead>\n",
              "    <tr style=\"text-align: right;\">\n",
              "      <th></th>\n",
              "      <th>translated_summary</th>\n",
              "      <th>translated_input</th>\n",
              "      <th>input_english_names</th>\n",
              "      <th>target_english_names</th>\n",
              "    </tr>\n",
              "  </thead>\n",
              "  <tbody>\n",
              "    <tr>\n",
              "      <th>0</th>\n",
              "      <td>The writer begins presenting the fourth book u...</td>\n",
              "      <td>Under the title From Disaster to Challenge, th...</td>\n",
              "      <td>{'Israel': 'Steven', 'the United Arab Republic...</td>\n",
              "      <td>{'Israel': 'Hannah', 'Abdel Nasser': 'Brian', ...</td>\n",
              "    </tr>\n",
              "    <tr>\n",
              "      <th>1</th>\n",
              "      <td>The diplomats of the two countries did not rec...</td>\n",
              "      <td>The diplomats of these two countries did not r...</td>\n",
              "      <td>{'Allal al-Fassi': 'Brittany', 'Morocco': 'Cha...</td>\n",
              "      <td>{'Allal Al-Fassi': 'Thomas', 'Cairo': 'Karen',...</td>\n",
              "    </tr>\n",
              "    <tr>\n",
              "      <th>2</th>\n",
              "      <td>Cassandra declared the French mandate over Val...</td>\n",
              "      <td>The Wilayat of Stephanie was established after...</td>\n",
              "      <td>{'Aleppo': 'Stephanie', 'Henri Gouraud': 'Aaro...</td>\n",
              "      <td>{'Gouraud': 'Cassandra', 'Syria': 'Valerie', '...</td>\n",
              "    </tr>\n",
              "    <tr>\n",
              "      <th>3</th>\n",
              "      <td>Monique is the mother of the country, and the ...</td>\n",
              "      <td>The Arab state of Emily is not any country and...</td>\n",
              "      <td>{'Egypt': 'Emily', 'Morocco': 'Zachary', 'Hosn...</td>\n",
              "      <td>{'Egypt': 'Monique', 'Hosni Mubarak': 'Amy', '...</td>\n",
              "    </tr>\n",
              "    <tr>\n",
              "      <th>4</th>\n",
              "      <td>The Syrian people insist on the independence o...</td>\n",
              "      <td>The Syrians insist on the independence of thei...</td>\n",
              "      <td>{'Sultan Pasha al-Atrash': 'Elizabeth', 'Jabal...</td>\n",
              "      <td>{'Syria': 'Kevin'}</td>\n",
              "    </tr>\n",
              "  </tbody>\n",
              "</table>\n",
              "</div>\n",
              "      <button class=\"colab-df-convert\" onclick=\"convertToInteractive('df-05b043ad-0c3f-491d-817e-071b85ac4553')\"\n",
              "              title=\"Convert this dataframe to an interactive table.\"\n",
              "              style=\"display:none;\">\n",
              "        \n",
              "  <svg xmlns=\"http://www.w3.org/2000/svg\" height=\"24px\"viewBox=\"0 0 24 24\"\n",
              "       width=\"24px\">\n",
              "    <path d=\"M0 0h24v24H0V0z\" fill=\"none\"/>\n",
              "    <path d=\"M18.56 5.44l.94 2.06.94-2.06 2.06-.94-2.06-.94-.94-2.06-.94 2.06-2.06.94zm-11 1L8.5 8.5l.94-2.06 2.06-.94-2.06-.94L8.5 2.5l-.94 2.06-2.06.94zm10 10l.94 2.06.94-2.06 2.06-.94-2.06-.94-.94-2.06-.94 2.06-2.06.94z\"/><path d=\"M17.41 7.96l-1.37-1.37c-.4-.4-.92-.59-1.43-.59-.52 0-1.04.2-1.43.59L10.3 9.45l-7.72 7.72c-.78.78-.78 2.05 0 2.83L4 21.41c.39.39.9.59 1.41.59.51 0 1.02-.2 1.41-.59l7.78-7.78 2.81-2.81c.8-.78.8-2.07 0-2.86zM5.41 20L4 18.59l7.72-7.72 1.47 1.35L5.41 20z\"/>\n",
              "  </svg>\n",
              "      </button>\n",
              "      \n",
              "  <style>\n",
              "    .colab-df-container {\n",
              "      display:flex;\n",
              "      flex-wrap:wrap;\n",
              "      gap: 12px;\n",
              "    }\n",
              "\n",
              "    .colab-df-convert {\n",
              "      background-color: #E8F0FE;\n",
              "      border: none;\n",
              "      border-radius: 50%;\n",
              "      cursor: pointer;\n",
              "      display: none;\n",
              "      fill: #1967D2;\n",
              "      height: 32px;\n",
              "      padding: 0 0 0 0;\n",
              "      width: 32px;\n",
              "    }\n",
              "\n",
              "    .colab-df-convert:hover {\n",
              "      background-color: #E2EBFA;\n",
              "      box-shadow: 0px 1px 2px rgba(60, 64, 67, 0.3), 0px 1px 3px 1px rgba(60, 64, 67, 0.15);\n",
              "      fill: #174EA6;\n",
              "    }\n",
              "\n",
              "    [theme=dark] .colab-df-convert {\n",
              "      background-color: #3B4455;\n",
              "      fill: #D2E3FC;\n",
              "    }\n",
              "\n",
              "    [theme=dark] .colab-df-convert:hover {\n",
              "      background-color: #434B5C;\n",
              "      box-shadow: 0px 1px 3px 1px rgba(0, 0, 0, 0.15);\n",
              "      filter: drop-shadow(0px 1px 2px rgba(0, 0, 0, 0.3));\n",
              "      fill: #FFFFFF;\n",
              "    }\n",
              "  </style>\n",
              "\n",
              "      <script>\n",
              "        const buttonEl =\n",
              "          document.querySelector('#df-05b043ad-0c3f-491d-817e-071b85ac4553 button.colab-df-convert');\n",
              "        buttonEl.style.display =\n",
              "          google.colab.kernel.accessAllowed ? 'block' : 'none';\n",
              "\n",
              "        async function convertToInteractive(key) {\n",
              "          const element = document.querySelector('#df-05b043ad-0c3f-491d-817e-071b85ac4553');\n",
              "          const dataTable =\n",
              "            await google.colab.kernel.invokeFunction('convertToInteractive',\n",
              "                                                     [key], {});\n",
              "          if (!dataTable) return;\n",
              "\n",
              "          const docLinkHtml = 'Like what you see? Visit the ' +\n",
              "            '<a target=\"_blank\" href=https://colab.research.google.com/notebooks/data_table.ipynb>data table notebook</a>'\n",
              "            + ' to learn more about interactive tables.';\n",
              "          element.innerHTML = '';\n",
              "          dataTable['output_type'] = 'display_data';\n",
              "          await google.colab.output.renderOutput(dataTable, element);\n",
              "          const docLink = document.createElement('div');\n",
              "          docLink.innerHTML = docLinkHtml;\n",
              "          element.appendChild(docLink);\n",
              "        }\n",
              "      </script>\n",
              "    </div>\n",
              "  </div>\n",
              "  "
            ]
          },
          "metadata": {},
          "execution_count": 17
        }
      ]
    },
    {
      "cell_type": "code",
      "execution_count": null,
      "metadata": {
        "id": "5XhrMNeOLxQk"
      },
      "outputs": [],
      "source": [
        "x = reviews['translated_input'][0]"
      ]
    },
    {
      "cell_type": "code",
      "execution_count": null,
      "metadata": {
        "id": "Y-ALmX2eL0BI",
        "colab": {
          "base_uri": "https://localhost:8080/"
        },
        "outputId": "c06f5975-f090-4a89-e60d-409bf379a9cf"
      },
      "outputs": [
        {
          "output_type": "stream",
          "name": "stdout",
          "text": [
            "summary:  The writer begins presenting the fourth book under the title From Disaster to Challenge, where he explains how Hannah was happy with its victory in 67, and how the war of attrition began, then he talks about the death of Brian, and Rebekah took over the rule of Rebecca. He says : This day was the worst defeat in the history of the Israeli army, then he moves us to the Syrian front, then returns again to the war diaries from October 9 -7 to October 13 -9 and October 14 and October 14 and presents the breach or what was known as the American aid, then the tendency to approve the request for a cease - fire from October 17 to 20 and the final operations in the Su ez Canal from October 19 to 22 and the final operations in the Su ez Canal.\n",
            "summary:  Jennifer entered the war against Robert in October 9, then the writer presents the battle for the sei zu re of the city Su ez from October 23 to October 25, then the developments of this battle, and how, by the twenty -seventh day of October, the Israeli s had captured about eight thousand members of the Egyptian forces, most of them from the supply and supply units.\n",
            "Generated Summary: The writer begins presenting the fourth book under the title From Disaster to Challenge, where he explains how Hannah was happy with its victory in 67, and how the war of attrition began, then he talks about the death of Brian, and Rebekah took over the rule of Rebecca. He says : This day was the worst defeat in the history of the Israeli army, then he moves us to the Syrian front, then returns again to the war diaries from October 9 -7 to October 13 -9 and October 14 and October 14 and presents the breach or what was known as the American aid, then the tendency to approve the request for a cease - fire from October 17 to 20 and the final operations in the Su ez Canal from October 19 to 22 and the final operations in the Su ez Canal. Jennifer entered the war against Robert in October 9, then the writer presents the battle for the sei zu re of the city Su ez from October 23 to October 25, then the developments of this battle, and how, by the twenty -seventh day of October, the Israeli s had captured about eight thousand members of the Egyptian forces, most of them from the supply and supply units.\n"
          ]
        }
      ],
      "source": [
        "# Load the trained model and tokenizer\n",
        "model_dir = \"model_summary_arabic\"\n",
        "tokenizer = T5Tokenizer.from_pretrained(model_dir)\n",
        "model = T5ForConditionalGeneration.from_pretrained(model_dir)\n",
        "\n",
        "# tokenizer = PegasusTokenizer.from_pretrained(model_dir)\n",
        "# model = PegasusForConditionalGeneration.from_pretrained(model_dir)\n",
        "\n",
        "# Set the model to evaluation mode\n",
        "eval = model.eval()\n",
        "\n",
        "# Input text\n",
        "input_text = x\n",
        "max_chunk_length = 400  # Maximum length for each chunk\n",
        "\n",
        "# Tokenize and chunk the input text\n",
        "input_tokens = tokenizer.tokenize(input_text)\n",
        "chunked_input = []\n",
        "current_chunk = []\n",
        "for token in input_tokens:\n",
        "    current_chunk.append(token)\n",
        "    if len(current_chunk) >= max_chunk_length:\n",
        "        chunked_input.append(\" \".join(current_chunk))\n",
        "        current_chunk = []\n",
        "if current_chunk:\n",
        "    chunked_input.append(\" \".join(current_chunk))\n",
        "\n",
        "# Generate summaries for each chunk\n",
        "summaries = []\n",
        "for chunk in chunked_input:\n",
        "    input_ids = tokenizer.encode(chunk, return_tensors=\"pt\")\n",
        "    output = model.generate(input_ids, max_length=300, num_beams=4, early_stopping=True)\n",
        "    summary = tokenizer.decode(output[0], skip_special_tokens=True)\n",
        "    print('summary: ',summary)\n",
        "    summaries.append(summary)\n",
        "\n",
        "# Combine the generated summaries\n",
        "combined_summary = \" \".join(summaries)\n",
        "\n",
        "# Print the generated summary\n",
        "print(\"Generated Summary:\", combined_summary)"
      ]
    },
    {
      "cell_type": "code",
      "execution_count": null,
      "metadata": {
        "id": "fWPdWMAyLz54",
        "colab": {
          "base_uri": "https://localhost:8080/",
          "height": 139
        },
        "outputId": "c4f5bab8-156d-46ef-f67d-62c8871786b7"
      },
      "outputs": [
        {
          "output_type": "execute_result",
          "data": {
            "text/plain": [
              "'يبدأ الكاتب في تقديم الكتاب الرابع بعنوان من كارثة إلى تحدٍ ، حيث يشرح كيف كانت حنة سعيدة بانتصارها عام 67 ، وكيف بدأت حرب الاستنزاف ، ثم تحدث عن موت بريان ، وتولت ربيكا زمام الأمور. حكم ريبيكا. يقول: هذا اليوم كان أسوأ هزيمة في تاريخ الجيش الإسرائيلي ، ثم ينقلنا إلى الجبهة السورية ، ثم يعود مرة أخرى إلى يوميات الحرب من 9 إلى 7 تشرين الأول (أكتوبر) حتى 13 تشرين الأول (أكتوبر) ، و 14 تشرين الأول (أكتوبر) و 14 تشرين الأول (أكتوبر) يعرض الخرق أو ما كان يعرف بالمساعدات الأمريكية ، ثم التوجه نحو الموافقة على طلب وقف إطلاق النار من 17 إلى 20 أكتوبر والعمليات النهائية في قناة السويس من 19 إلى 22 أكتوبر والعمليات النهائية في منطقة سو. قناة ez. دخلت جينيفر الحرب ضد روبرت في 9 أكتوبر ، ثم يعرض الكاتب معركة سي زو ري لمدينة سو إيز من 23 أكتوبر إلى 25 أكتوبر ، ثم تطورات هذه المعركة ، وكيف ، بحلول اليوم السابع والعشرين من الشهر. وكانت القوات الإسرائيلية قد أسرت في أكتوبر حوالي ثمانية آلاف عنصر من القوات المصرية ، معظمهم من وحدات الإمداد والتموين.'"
            ],
            "application/vnd.google.colaboratory.intrinsic+json": {
              "type": "string"
            }
          },
          "metadata": {},
          "execution_count": 23
        }
      ],
      "source": [
        "summary = translate_en_to_ar(combined_summary)\n",
        "summary"
      ]
    },
    {
      "cell_type": "code",
      "execution_count": null,
      "metadata": {
        "id": "GAMrKJ-ZLzwH"
      },
      "outputs": [],
      "source": [
        "# Load the trained model and tokenizer\n",
        "model_dir = \"model_summary_arabic\"\n",
        "tokenizer = T5Tokenizer.from_pretrained(model_dir)\n",
        "model = T5ForConditionalGeneration.from_pretrained(model_dir)\n",
        "\n",
        "# tokenizer = PegasusTokenizer.from_pretrained(model_dir)\n",
        "# model = PegasusForConditionalGeneration.from_pretrained(model_dir)\n"
      ]
    },
    {
      "cell_type": "markdown",
      "metadata": {
        "id": "Y91cdHFzNrOJ"
      },
      "source": [
        "append new column for \"generated_summary\""
      ]
    },
    {
      "cell_type": "code",
      "execution_count": null,
      "metadata": {
        "id": "d5faNmI0Lzmu",
        "colab": {
          "base_uri": "https://localhost:8080/"
        },
        "outputId": "26c63e6c-c629-41a7-aeae-0baf29985ed6"
      },
      "outputs": [
        {
          "output_type": "stream",
          "name": "stdout",
          "text": [
            "0\n",
            "1\n",
            "0\n",
            "1\n",
            "0\n",
            "1\n",
            "0\n",
            "1\n",
            "0\n",
            "1\n",
            "0\n",
            "1\n",
            "0\n",
            "1\n",
            "0\n",
            "1\n",
            "0\n",
            "1\n",
            "0\n",
            "1\n",
            "0\n",
            "1\n",
            "0\n",
            "1\n",
            "0\n",
            "1\n",
            "0\n",
            "1\n",
            "0\n",
            "1\n",
            "0\n",
            "1\n",
            "0\n",
            "1\n",
            "0\n",
            "1\n",
            "0\n",
            "1\n",
            "2\n",
            "0\n",
            "1\n",
            "2\n",
            "0\n",
            "1\n",
            "0\n",
            "1\n",
            "0\n",
            "1\n",
            "0\n",
            "1\n",
            "0\n",
            "1\n",
            "0\n",
            "1\n",
            "0\n",
            "1\n",
            "0\n",
            "1\n",
            "0\n",
            "1\n",
            "0\n",
            "1\n",
            "0\n",
            "1\n",
            "0\n",
            "1\n",
            "0\n",
            "1\n",
            "2\n",
            "0\n",
            "1\n",
            "0\n",
            "1\n",
            "2\n",
            "0\n",
            "1\n",
            "0\n",
            "1\n",
            "0\n",
            "1\n",
            "2\n",
            "0\n",
            "1\n",
            "0\n",
            "1\n",
            "2\n",
            "0\n",
            "1\n",
            "0\n",
            "1\n",
            "0\n",
            "1\n",
            "0\n",
            "1\n",
            "0\n",
            "1\n",
            "0\n",
            "1\n",
            "0\n",
            "1\n",
            "2\n",
            "0\n",
            "1\n",
            "0\n",
            "1\n",
            "0\n",
            "1\n",
            "0\n",
            "1\n",
            "0\n",
            "1\n",
            "0\n",
            "1\n",
            "0\n",
            "1\n",
            "0\n",
            "1\n",
            "2\n",
            "0\n",
            "1\n",
            "0\n",
            "1\n",
            "0\n",
            "1\n",
            "0\n",
            "1\n",
            "0\n",
            "1\n",
            "0\n",
            "1\n",
            "0\n",
            "1\n",
            "0\n",
            "1\n",
            "0\n",
            "1\n",
            "0\n",
            "1\n",
            "0\n",
            "1\n",
            "0\n",
            "1\n",
            "0\n",
            "1\n",
            "2\n",
            "0\n",
            "1\n",
            "2\n",
            "0\n",
            "1\n",
            "0\n",
            "1\n",
            "0\n",
            "1\n",
            "0\n",
            "1\n",
            "0\n",
            "1\n",
            "0\n",
            "1\n",
            "0\n",
            "1\n",
            "0\n",
            "1\n",
            "2\n",
            "0\n",
            "1\n",
            "0\n",
            "1\n",
            "0\n",
            "1\n",
            "0\n",
            "1\n",
            "2\n",
            "0\n"
          ]
        }
      ],
      "source": [
        "# Set the model to evaluation mode\n",
        "eval = model.eval()\n",
        "\n",
        "# Input text\n",
        "input_text = reviews['translated_input']\n",
        "\n",
        "# Function to generate summaries\n",
        "def generate_summary(text):\n",
        "    max_chunk_length = 300  # Maximum length for each chunk\n",
        "    i=0\n",
        "    # Tokenize and chunk the input text\n",
        "    input_tokens = tokenizer.tokenize(text)\n",
        "    chunked_input = []\n",
        "    current_chunk = []\n",
        "    for token in input_tokens:\n",
        "        current_chunk.append(token)\n",
        "        if len(current_chunk) >= max_chunk_length:\n",
        "            chunked_input.append(\" \".join(current_chunk))\n",
        "            current_chunk = []\n",
        "    if current_chunk:\n",
        "        chunked_input.append(\" \".join(current_chunk))\n",
        "\n",
        "    # Generate summaries for each chunk\n",
        "    summaries = []\n",
        "    for chunk in chunked_input:\n",
        "        print(i)\n",
        "        i+=1\n",
        "        input_ids = tokenizer.encode(chunk, return_tensors=\"pt\")\n",
        "        output = model.generate(input_ids, max_length=300, num_beams=4, early_stopping=True)\n",
        "        summary = tokenizer.decode(output[0], skip_special_tokens=True)\n",
        "        summaries.append(summary)\n",
        "\n",
        "    # Combine the generated summaries\n",
        "    combined_summary = \" \".join(summaries)\n",
        "    return combined_summary\n",
        "\n",
        "# Generate column \"generate summary\" in the DataFrame\n",
        "reviews['generated_summary'] = reviews['translated_input'].apply(generate_summary)\n",
        "\n",
        "reviews.head()"
      ]
    },
    {
      "cell_type": "markdown",
      "metadata": {
        "id": "sMFZgKD4PfEG"
      },
      "source": [
        "translate generated summary in new column called \"translated_generated_summary\""
      ]
    },
    {
      "cell_type": "code",
      "execution_count": null,
      "metadata": {
        "id": "BCs0Bv4sPmEL"
      },
      "outputs": [],
      "source": [
        "# Function to translate the generated summaries\n",
        "def translate_summary(summary):\n",
        "    input_ids = tokenizer.encode(summary, return_tensors=\"pt\")\n",
        "    translated_output = model.generate(input_ids)\n",
        "    translated_summary = tokenizer.decode(translated_output[0], skip_special_tokens=True)\n",
        "    return translated_summary\n",
        "\n",
        "reviews['translated_generated_summary'] = reviews['generated_summary'].apply(translate_summary)\n",
        "print('Done')"
      ]
    },
    {
      "cell_type": "markdown",
      "metadata": {
        "id": "o640ZK1zEJUU"
      },
      "source": [
        "# Step 6: Evaluation using ROUGE metrics\n",
        "+ ROUGE: (Recall-Oriented Understudy for Gisting Evaluation)\n",
        "+ used for evaluating the quality of text summarization outputs."
      ]
    },
    {
      "cell_type": "markdown",
      "metadata": {
        "id": "rZuwLl88ESMt"
      },
      "source": [
        "Initialize object from ROUGE metric"
      ]
    },
    {
      "cell_type": "code",
      "execution_count": null,
      "metadata": {
        "id": "W5XkkGSOFCJD"
      },
      "outputs": [],
      "source": [
        "!pip install rouge"
      ]
    },
    {
      "cell_type": "code",
      "execution_count": null,
      "metadata": {
        "id": "dRLYv6ShEN2b"
      },
      "outputs": [],
      "source": [
        "rouge = Rouge()"
      ]
    },
    {
      "cell_type": "markdown",
      "metadata": {
        "id": "aLCvaOVOEW60"
      },
      "source": [
        "+ Prepare the references and hypotheses:\n",
        "  - column [summary] is references..\n",
        "      - Convert the reference summaries from the dataset into a list\n",
        "  - column [generated_summary] is hypotheses..\n",
        "      - Convert the generated summaries into a list"
      ]
    },
    {
      "cell_type": "code",
      "execution_count": null,
      "metadata": {
        "id": "XqY5d27xEaPs"
      },
      "outputs": [],
      "source": [
        "references = reviews['summary'].tolist()\n",
        "hypotheses = reviews['translated_generated_summary'].tolist()"
      ]
    },
    {
      "cell_type": "markdown",
      "metadata": {
        "id": "lQ7gjHPAEcnb"
      },
      "source": [
        "- Pass hypotheses and references for method get_scores to compute the ROUGE scores:\n",
        "- avg= True >> compute average scores for all the scores."
      ]
    },
    {
      "cell_type": "code",
      "execution_count": null,
      "metadata": {
        "id": "_XzTQ-a2EkAM"
      },
      "outputs": [],
      "source": [
        "scores = rouge.get_scores(hypotheses, references, avg=True)"
      ]
    },
    {
      "cell_type": "markdown",
      "metadata": {
        "id": "sInoPZQKEnTC"
      },
      "source": [
        "- ROUGE-1: measures the overlap of `unigrams (single words)` between the generated summary (hypotheses) and the reference summary.\n",
        "\n",
        "- ROUGE-2: measures the overlap of `bigrams (pairs of consecutive words)` between the generated summary (hypotheses) and the reference summary.\n",
        "\n",
        "- ROUGE-L: measures the `longest common subsequence (LCS)` between the generated summary (hypotheses) and the reference summary.\n",
        "\n",
        "- Precision: ratio of the number of overlapping unigrams (ROUGE-1), bigrams (ROUGE-2) or LCS (ROUGE-L) between the generated and reference summaries to the number of unigrams or bigrams or LCS in the `generated summary`.\n",
        "\n",
        "- Recall: ratio of the number of overlapping unigrams (ROUGE-1), bigrams (ROUGE-2) or LCS (ROUGE-L) between the generated and reference summaries to the number of unigrams or bigrams or LCS in the `reference summary`.\n",
        "\n",
        "- ROUGE-1 Score: `harmonic mean` of precision and recall."
      ]
    },
    {
      "cell_type": "code",
      "execution_count": null,
      "metadata": {
        "id": "UQ_hckHQEq8L"
      },
      "outputs": [],
      "source": [
        "print(\"ROUGE-1: \", scores['rouge-1'])\n",
        "print(\"ROUGE-2: \", scores['rouge-2'])\n",
        "print(\"ROUGE-L: \", scores['rouge-l'])\n",
        "print(\"Precision: \", scores['rouge-1']['p'])\n",
        "print(\"Recall: \", scores['rouge-1']['r'])\n",
        "print(\"ROUGE-1 Score: \", scores['rouge-1']['f'])"
      ]
    },
    {
      "cell_type": "markdown",
      "metadata": {
        "id": "bgSMH4-4EFhi"
      },
      "source": [
        "# Step 7: Save the model"
      ]
    },
    {
      "cell_type": "code",
      "execution_count": null,
      "metadata": {
        "id": "HsPGprgEGZHv"
      },
      "outputs": [],
      "source": [
        "# Save the trained model\n",
        "output_dir = \"model_summary_arabic\"\n",
        "model.save_pretrained(output_dir)\n",
        "tokenizer.save_pretrained(output_dir)"
      ]
    },
    {
      "cell_type": "markdown",
      "metadata": {
        "id": "YvEcOqBlODRX"
      },
      "source": [
        "# Step 8: Test\n",
        "  + with test dataset !!"
      ]
    },
    {
      "cell_type": "code",
      "execution_count": null,
      "metadata": {
        "id": "tyZ9AeRHKE2W"
      },
      "outputs": [],
      "source": []
    },
    {
      "cell_type": "markdown",
      "metadata": {
        "id": "mvbEowsi5dn0"
      },
      "source": [
        "# Final Step:\n",
        "  + create Dataframe \"translated_generated_summary\" has one column called \"summary\"\n",
        "  + convert it to jsonl file called \"predictions.jsonl\n",
        "  + compress it to zip format which will be submitted"
      ]
    },
    {
      "cell_type": "code",
      "execution_count": null,
      "metadata": {
        "id": "RGjj8bad5eLs"
      },
      "outputs": [],
      "source": [
        "# create DataFrame from column \"\"\n",
        "dataset_predictions= pd.DataFrame(reviews['translated_generated_summary'])\n",
        "dataset_predictions.head()"
      ]
    },
    {
      "cell_type": "code",
      "execution_count": null,
      "metadata": {
        "id": "OXK_PTA4TkEK"
      },
      "outputs": [],
      "source": [
        "# convert DataFrame to jsonl format\n",
        "dataset_predictions.to_json(\"predictions.jsonl\", lines=True, orient='records', force_ascii=False)"
      ]
    },
    {
      "cell_type": "code",
      "execution_count": null,
      "metadata": {
        "id": "QUTDZ79PUDl3"
      },
      "outputs": [],
      "source": [
        "# # Save JSON data to a file\n",
        "# json_file_path = 'predictions.jsonl'\n",
        "# with open(json_file_path, 'w') as json_file:\n",
        "#     json_file.write(dataset_predictions)\n",
        "\n",
        "# print(\"DataFrame converted to JSON and saved to\", json_file_path)"
      ]
    }
  ],
  "metadata": {
    "accelerator": "GPU",
    "colab": {
      "provenance": [],
      "gpuType": "T4"
    },
    "kernelspec": {
      "display_name": "Python 3",
      "name": "python3"
    },
    "language_info": {
      "name": "python"
    }
  },
  "nbformat": 4,
  "nbformat_minor": 0
}